{
 "cells": [
  {
   "cell_type": "code",
   "execution_count": 5,
   "id": "c536a253",
   "metadata": {
    "_cell_guid": "b1076dfc-b9ad-4769-8c92-a6c4dae69d19",
    "_uuid": "8f2839f25d086af736a60e9eeb907d3b93b6e0e5",
    "execution": {
     "iopub.execute_input": "2022-09-23T07:32:25.660091Z",
     "iopub.status.busy": "2022-09-23T07:32:25.659567Z",
     "iopub.status.idle": "2022-09-23T07:32:27.144391Z",
     "shell.execute_reply": "2022-09-23T07:32:27.143010Z"
    },
    "papermill": {
     "duration": 1.500544,
     "end_time": "2022-09-23T07:32:27.147708",
     "exception": false,
     "start_time": "2022-09-23T07:32:25.647164",
     "status": "completed"
    },
    "tags": []
   },
   "outputs": [],
   "source": [
    "import numpy as np # linear algebra\n",
    "import pandas as pd # data processing, CSV file I/O (e.g. pd.read_csv)\n",
    "import matplotlib.pyplot as plt\n",
    "import seaborn as sns\n",
    "from ast import literal_eval\n",
    "from sklearn.feature_extraction.text import TfidfVectorizer\n",
    "from sklearn.metrics.pairwise import linear_kernel\n",
    "import warnings\n",
    "warnings.filterwarnings(\"ignore\")"
   ]
  },
  {
   "cell_type": "code",
   "execution_count": 6,
   "id": "859f06ce",
   "metadata": {
    "execution": {
     "iopub.execute_input": "2022-09-23T07:32:27.169229Z",
     "iopub.status.busy": "2022-09-23T07:32:27.168790Z",
     "iopub.status.idle": "2022-09-23T07:32:37.380013Z",
     "shell.execute_reply": "2022-09-23T07:32:37.378652Z"
    },
    "papermill": {
     "duration": 10.225479,
     "end_time": "2022-09-23T07:32:37.382785",
     "exception": false,
     "start_time": "2022-09-23T07:32:27.157306",
     "status": "completed"
    },
    "tags": []
   },
   "outputs": [
    {
     "data": {
      "text/html": [
       "<div>\n",
       "<style scoped>\n",
       "    .dataframe tbody tr th:only-of-type {\n",
       "        vertical-align: middle;\n",
       "    }\n",
       "\n",
       "    .dataframe tbody tr th {\n",
       "        vertical-align: top;\n",
       "    }\n",
       "\n",
       "    .dataframe thead th {\n",
       "        text-align: right;\n",
       "    }\n",
       "</style>\n",
       "<table border=\"1\" class=\"dataframe\">\n",
       "  <thead>\n",
       "    <tr style=\"text-align: right;\">\n",
       "      <th></th>\n",
       "      <th>user_id</th>\n",
       "      <th>recipe_id</th>\n",
       "      <th>date</th>\n",
       "      <th>rating</th>\n",
       "      <th>review</th>\n",
       "    </tr>\n",
       "  </thead>\n",
       "  <tbody>\n",
       "    <tr>\n",
       "      <th>0</th>\n",
       "      <td>38094</td>\n",
       "      <td>40893</td>\n",
       "      <td>2003-02-17</td>\n",
       "      <td>4</td>\n",
       "      <td>Great with a salad. Cooked on top of stove for...</td>\n",
       "    </tr>\n",
       "    <tr>\n",
       "      <th>1</th>\n",
       "      <td>1293707</td>\n",
       "      <td>40893</td>\n",
       "      <td>2011-12-21</td>\n",
       "      <td>5</td>\n",
       "      <td>So simple, so delicious! Great for chilly fall...</td>\n",
       "    </tr>\n",
       "  </tbody>\n",
       "</table>\n",
       "</div>"
      ],
      "text/plain": [
       "   user_id  recipe_id        date  rating  \\\n",
       "0    38094      40893  2003-02-17       4   \n",
       "1  1293707      40893  2011-12-21       5   \n",
       "\n",
       "                                              review  \n",
       "0  Great with a salad. Cooked on top of stove for...  \n",
       "1  So simple, so delicious! Great for chilly fall...  "
      ]
     },
     "execution_count": 6,
     "metadata": {},
     "output_type": "execute_result"
    }
   ],
   "source": [
    "a = pd.read_csv(\"RAW_interactions.csv\")\n",
    "a.head(2)"
   ]
  },
  {
   "cell_type": "code",
   "execution_count": 7,
   "id": "afa7688e",
   "metadata": {
    "execution": {
     "iopub.execute_input": "2022-09-23T07:32:37.403597Z",
     "iopub.status.busy": "2022-09-23T07:32:37.403104Z",
     "iopub.status.idle": "2022-09-23T07:32:46.080401Z",
     "shell.execute_reply": "2022-09-23T07:32:46.078792Z"
    },
    "papermill": {
     "duration": 8.690993,
     "end_time": "2022-09-23T07:32:46.083313",
     "exception": false,
     "start_time": "2022-09-23T07:32:37.392320",
     "status": "completed"
    },
    "scrolled": true,
    "tags": []
   },
   "outputs": [
    {
     "data": {
      "text/html": [
       "<div>\n",
       "<style scoped>\n",
       "    .dataframe tbody tr th:only-of-type {\n",
       "        vertical-align: middle;\n",
       "    }\n",
       "\n",
       "    .dataframe tbody tr th {\n",
       "        vertical-align: top;\n",
       "    }\n",
       "\n",
       "    .dataframe thead th {\n",
       "        text-align: right;\n",
       "    }\n",
       "</style>\n",
       "<table border=\"1\" class=\"dataframe\">\n",
       "  <thead>\n",
       "    <tr style=\"text-align: right;\">\n",
       "      <th></th>\n",
       "      <th>name</th>\n",
       "      <th>id</th>\n",
       "      <th>minutes</th>\n",
       "      <th>contributor_id</th>\n",
       "      <th>submitted</th>\n",
       "      <th>tags</th>\n",
       "      <th>nutrition</th>\n",
       "      <th>n_steps</th>\n",
       "      <th>steps</th>\n",
       "      <th>description</th>\n",
       "      <th>ingredients</th>\n",
       "      <th>n_ingredients</th>\n",
       "    </tr>\n",
       "  </thead>\n",
       "  <tbody>\n",
       "    <tr>\n",
       "      <th>0</th>\n",
       "      <td>arriba   baked winter squash mexican style</td>\n",
       "      <td>137739</td>\n",
       "      <td>55</td>\n",
       "      <td>47892</td>\n",
       "      <td>2005-09-16</td>\n",
       "      <td>['60-minutes-or-less', 'time-to-make', 'course...</td>\n",
       "      <td>[51.5, 0.0, 13.0, 0.0, 2.0, 0.0, 4.0]</td>\n",
       "      <td>11</td>\n",
       "      <td>['make a choice and proceed with recipe', 'dep...</td>\n",
       "      <td>autumn is my favorite time of year to cook! th...</td>\n",
       "      <td>['winter squash', 'mexican seasoning', 'mixed ...</td>\n",
       "      <td>7</td>\n",
       "    </tr>\n",
       "    <tr>\n",
       "      <th>1</th>\n",
       "      <td>a bit different  breakfast pizza</td>\n",
       "      <td>31490</td>\n",
       "      <td>30</td>\n",
       "      <td>26278</td>\n",
       "      <td>2002-06-17</td>\n",
       "      <td>['30-minutes-or-less', 'time-to-make', 'course...</td>\n",
       "      <td>[173.4, 18.0, 0.0, 17.0, 22.0, 35.0, 1.0]</td>\n",
       "      <td>9</td>\n",
       "      <td>['preheat oven to 425 degrees f', 'press dough...</td>\n",
       "      <td>this recipe calls for the crust to be prebaked...</td>\n",
       "      <td>['prepared pizza crust', 'sausage patty', 'egg...</td>\n",
       "      <td>6</td>\n",
       "    </tr>\n",
       "    <tr>\n",
       "      <th>2</th>\n",
       "      <td>all in the kitchen  chili</td>\n",
       "      <td>112140</td>\n",
       "      <td>130</td>\n",
       "      <td>196586</td>\n",
       "      <td>2005-02-25</td>\n",
       "      <td>['time-to-make', 'course', 'preparation', 'mai...</td>\n",
       "      <td>[269.8, 22.0, 32.0, 48.0, 39.0, 27.0, 5.0]</td>\n",
       "      <td>6</td>\n",
       "      <td>['brown ground beef in large pot', 'add choppe...</td>\n",
       "      <td>this modified version of 'mom's' chili was a h...</td>\n",
       "      <td>['ground beef', 'yellow onions', 'diced tomato...</td>\n",
       "      <td>13</td>\n",
       "    </tr>\n",
       "  </tbody>\n",
       "</table>\n",
       "</div>"
      ],
      "text/plain": [
       "                                         name      id  minutes  \\\n",
       "0  arriba   baked winter squash mexican style  137739       55   \n",
       "1            a bit different  breakfast pizza   31490       30   \n",
       "2                   all in the kitchen  chili  112140      130   \n",
       "\n",
       "   contributor_id   submitted  \\\n",
       "0           47892  2005-09-16   \n",
       "1           26278  2002-06-17   \n",
       "2          196586  2005-02-25   \n",
       "\n",
       "                                                tags  \\\n",
       "0  ['60-minutes-or-less', 'time-to-make', 'course...   \n",
       "1  ['30-minutes-or-less', 'time-to-make', 'course...   \n",
       "2  ['time-to-make', 'course', 'preparation', 'mai...   \n",
       "\n",
       "                                    nutrition  n_steps  \\\n",
       "0       [51.5, 0.0, 13.0, 0.0, 2.0, 0.0, 4.0]       11   \n",
       "1   [173.4, 18.0, 0.0, 17.0, 22.0, 35.0, 1.0]        9   \n",
       "2  [269.8, 22.0, 32.0, 48.0, 39.0, 27.0, 5.0]        6   \n",
       "\n",
       "                                               steps  \\\n",
       "0  ['make a choice and proceed with recipe', 'dep...   \n",
       "1  ['preheat oven to 425 degrees f', 'press dough...   \n",
       "2  ['brown ground beef in large pot', 'add choppe...   \n",
       "\n",
       "                                         description  \\\n",
       "0  autumn is my favorite time of year to cook! th...   \n",
       "1  this recipe calls for the crust to be prebaked...   \n",
       "2  this modified version of 'mom's' chili was a h...   \n",
       "\n",
       "                                         ingredients  n_ingredients  \n",
       "0  ['winter squash', 'mexican seasoning', 'mixed ...              7  \n",
       "1  ['prepared pizza crust', 'sausage patty', 'egg...              6  \n",
       "2  ['ground beef', 'yellow onions', 'diced tomato...             13  "
      ]
     },
     "execution_count": 7,
     "metadata": {},
     "output_type": "execute_result"
    }
   ],
   "source": [
    "b = pd.read_csv(\"RAW_recipes.csv\")\n",
    "b.head(3)"
   ]
  },
  {
   "cell_type": "code",
   "execution_count": 8,
   "id": "e33571f7",
   "metadata": {
    "execution": {
     "iopub.execute_input": "2022-09-23T07:32:46.104833Z",
     "iopub.status.busy": "2022-09-23T07:32:46.104294Z",
     "iopub.status.idle": "2022-09-23T07:32:46.113495Z",
     "shell.execute_reply": "2022-09-23T07:32:46.111893Z"
    },
    "papermill": {
     "duration": 0.02312,
     "end_time": "2022-09-23T07:32:46.116390",
     "exception": false,
     "start_time": "2022-09-23T07:32:46.093270",
     "status": "completed"
    },
    "tags": []
   },
   "outputs": [
    {
     "data": {
      "text/plain": [
       "((1132367, 5), (231637, 12))"
      ]
     },
     "execution_count": 8,
     "metadata": {},
     "output_type": "execute_result"
    }
   ],
   "source": [
    "a.shape , b.shape"
   ]
  },
  {
   "cell_type": "code",
   "execution_count": 9,
   "id": "1cc57a76",
   "metadata": {},
   "outputs": [
    {
     "data": {
      "text/plain": [
       "(231637, 231637)"
      ]
     },
     "execution_count": 9,
     "metadata": {},
     "output_type": "execute_result"
    }
   ],
   "source": [
    "# here we can see that the both the file contains same number of unique food name\n",
    "# here food name and recipe are same\n",
    "len(a.recipe_id.unique()), len(b.id.unique())"
   ]
  },
  {
   "cell_type": "code",
   "execution_count": 10,
   "id": "c9354d3e",
   "metadata": {},
   "outputs": [
    {
     "data": {
      "text/plain": [
       "(38, 537716, 38, 537716)"
      ]
     },
     "execution_count": 10,
     "metadata": {},
     "output_type": "execute_result"
    }
   ],
   "source": [
    "# with same min and max id \n",
    "a.recipe_id.min(), a.recipe_id.max(), b.id.min(), b.id.max()"
   ]
  },
  {
   "cell_type": "code",
   "execution_count": 11,
   "id": "67c58878",
   "metadata": {
    "execution": {
     "iopub.execute_input": "2022-09-23T07:32:46.138496Z",
     "iopub.status.busy": "2022-09-23T07:32:46.138077Z",
     "iopub.status.idle": "2022-09-23T07:32:46.258712Z",
     "shell.execute_reply": "2022-09-23T07:32:46.257269Z"
    },
    "papermill": {
     "duration": 0.135104,
     "end_time": "2022-09-23T07:32:46.261734",
     "exception": false,
     "start_time": "2022-09-23T07:32:46.126630",
     "status": "completed"
    },
    "tags": []
   },
   "outputs": [],
   "source": [
    "# Data set is big so take some random samples\n",
    "\n",
    "a = a.sample(50000)\n",
    "b = b.sample(50000)"
   ]
  },
  {
   "cell_type": "code",
   "execution_count": 12,
   "id": "29c256ec",
   "metadata": {},
   "outputs": [
    {
     "data": {
      "text/plain": [
       "((50000, 5), (50000, 12))"
      ]
     },
     "execution_count": 12,
     "metadata": {},
     "output_type": "execute_result"
    }
   ],
   "source": [
    "a.shape, b.shape"
   ]
  },
  {
   "cell_type": "code",
   "execution_count": 13,
   "id": "0a58b7fb",
   "metadata": {
    "execution": {
     "iopub.execute_input": "2022-09-23T07:32:46.284191Z",
     "iopub.status.busy": "2022-09-23T07:32:46.283711Z",
     "iopub.status.idle": "2022-09-23T07:32:46.354545Z",
     "shell.execute_reply": "2022-09-23T07:32:46.353278Z"
    },
    "papermill": {
     "duration": 0.086022,
     "end_time": "2022-09-23T07:32:46.357577",
     "exception": false,
     "start_time": "2022-09-23T07:32:46.271555",
     "status": "completed"
    },
    "tags": []
   },
   "outputs": [],
   "source": [
    "# merging both the data based on the id from b and recipe_id from a\n",
    "\n",
    "data = pd.merge(a,b, right_on='id',left_on='recipe_id')"
   ]
  },
  {
   "cell_type": "code",
   "execution_count": 14,
   "id": "8e0a0cc2",
   "metadata": {
    "execution": {
     "iopub.execute_input": "2022-09-23T07:32:46.379398Z",
     "iopub.status.busy": "2022-09-23T07:32:46.378566Z",
     "iopub.status.idle": "2022-09-23T07:32:46.386392Z",
     "shell.execute_reply": "2022-09-23T07:32:46.385056Z"
    },
    "papermill": {
     "duration": 0.021705,
     "end_time": "2022-09-23T07:32:46.389092",
     "exception": false,
     "start_time": "2022-09-23T07:32:46.367387",
     "status": "completed"
    },
    "tags": []
   },
   "outputs": [
    {
     "data": {
      "text/plain": [
       "(10555, 17)"
      ]
     },
     "execution_count": 14,
     "metadata": {},
     "output_type": "execute_result"
    }
   ],
   "source": [
    "data.shape"
   ]
  },
  {
   "cell_type": "code",
   "execution_count": 15,
   "id": "ae85b915",
   "metadata": {},
   "outputs": [],
   "source": [
    "# To rename all the food names with different IDs to the same ID in a DataFrame, \n",
    "# you can use the groupby and transform functions in pandas. \n",
    "data['recipe_id'] = data.groupby('name')['recipe_id'].transform('min')"
   ]
  },
  {
   "cell_type": "code",
   "execution_count": 16,
   "id": "7fed8fce",
   "metadata": {
    "execution": {
     "iopub.execute_input": "2022-09-23T07:32:46.410666Z",
     "iopub.status.busy": "2022-09-23T07:32:46.410208Z",
     "iopub.status.idle": "2022-09-23T07:32:46.429176Z",
     "shell.execute_reply": "2022-09-23T07:32:46.427859Z"
    },
    "papermill": {
     "duration": 0.032822,
     "end_time": "2022-09-23T07:32:46.431749",
     "exception": false,
     "start_time": "2022-09-23T07:32:46.398927",
     "status": "completed"
    },
    "scrolled": false,
    "tags": []
   },
   "outputs": [
    {
     "data": {
      "text/html": [
       "<div>\n",
       "<style scoped>\n",
       "    .dataframe tbody tr th:only-of-type {\n",
       "        vertical-align: middle;\n",
       "    }\n",
       "\n",
       "    .dataframe tbody tr th {\n",
       "        vertical-align: top;\n",
       "    }\n",
       "\n",
       "    .dataframe thead th {\n",
       "        text-align: right;\n",
       "    }\n",
       "</style>\n",
       "<table border=\"1\" class=\"dataframe\">\n",
       "  <thead>\n",
       "    <tr style=\"text-align: right;\">\n",
       "      <th></th>\n",
       "      <th>user_id</th>\n",
       "      <th>recipe_id</th>\n",
       "      <th>date</th>\n",
       "      <th>rating</th>\n",
       "      <th>review</th>\n",
       "      <th>name</th>\n",
       "      <th>id</th>\n",
       "      <th>minutes</th>\n",
       "      <th>contributor_id</th>\n",
       "      <th>submitted</th>\n",
       "      <th>tags</th>\n",
       "      <th>nutrition</th>\n",
       "      <th>n_steps</th>\n",
       "      <th>steps</th>\n",
       "      <th>description</th>\n",
       "      <th>ingredients</th>\n",
       "      <th>n_ingredients</th>\n",
       "    </tr>\n",
       "  </thead>\n",
       "  <tbody>\n",
       "    <tr>\n",
       "      <th>0</th>\n",
       "      <td>486725</td>\n",
       "      <td>269658</td>\n",
       "      <td>2008-01-07</td>\n",
       "      <td>4</td>\n",
       "      <td>This was a good marinade. I halved the water, ...</td>\n",
       "      <td>pork tenderloin in bourbon brown sugar marinade</td>\n",
       "      <td>269658</td>\n",
       "      <td>510</td>\n",
       "      <td>369715</td>\n",
       "      <td>2007-12-03</td>\n",
       "      <td>['main-ingredient', 'healthy', 'pork', 'low-fa...</td>\n",
       "      <td>[397.6, 12.0, 110.0, 62.0, 99.0, 13.0, 10.0]</td>\n",
       "      <td>9</td>\n",
       "      <td>['in a shallow glass casserole dish , combine ...</td>\n",
       "      <td>i love to cook pork like this. i have also use...</td>\n",
       "      <td>['sour mash', 'dark brown sugar', 'soy sauce',...</td>\n",
       "      <td>9</td>\n",
       "    </tr>\n",
       "    <tr>\n",
       "      <th>1</th>\n",
       "      <td>2567666</td>\n",
       "      <td>374887</td>\n",
       "      <td>2013-02-18</td>\n",
       "      <td>5</td>\n",
       "      <td>Excellent! My 11 year old daughter, who is bec...</td>\n",
       "      <td>rotel corn</td>\n",
       "      <td>374887</td>\n",
       "      <td>40</td>\n",
       "      <td>532785</td>\n",
       "      <td>2009-05-28</td>\n",
       "      <td>['60-minutes-or-less', 'time-to-make', 'course...</td>\n",
       "      <td>[330.2, 27.0, 20.0, 12.0, 15.0, 50.0, 14.0]</td>\n",
       "      <td>5</td>\n",
       "      <td>['preheat oven to 350 degrees', 'place all ing...</td>\n",
       "      <td>this recipe comes from a friend of mine. i had...</td>\n",
       "      <td>['corn', 'cream cheese', 'rotel tomatoes &amp; chi...</td>\n",
       "      <td>5</td>\n",
       "    </tr>\n",
       "  </tbody>\n",
       "</table>\n",
       "</div>"
      ],
      "text/plain": [
       "   user_id  recipe_id        date  rating  \\\n",
       "0   486725     269658  2008-01-07       4   \n",
       "1  2567666     374887  2013-02-18       5   \n",
       "\n",
       "                                              review  \\\n",
       "0  This was a good marinade. I halved the water, ...   \n",
       "1  Excellent! My 11 year old daughter, who is bec...   \n",
       "\n",
       "                                              name      id  minutes  \\\n",
       "0  pork tenderloin in bourbon brown sugar marinade  269658      510   \n",
       "1                                       rotel corn  374887       40   \n",
       "\n",
       "   contributor_id   submitted  \\\n",
       "0          369715  2007-12-03   \n",
       "1          532785  2009-05-28   \n",
       "\n",
       "                                                tags  \\\n",
       "0  ['main-ingredient', 'healthy', 'pork', 'low-fa...   \n",
       "1  ['60-minutes-or-less', 'time-to-make', 'course...   \n",
       "\n",
       "                                      nutrition  n_steps  \\\n",
       "0  [397.6, 12.0, 110.0, 62.0, 99.0, 13.0, 10.0]        9   \n",
       "1   [330.2, 27.0, 20.0, 12.0, 15.0, 50.0, 14.0]        5   \n",
       "\n",
       "                                               steps  \\\n",
       "0  ['in a shallow glass casserole dish , combine ...   \n",
       "1  ['preheat oven to 350 degrees', 'place all ing...   \n",
       "\n",
       "                                         description  \\\n",
       "0  i love to cook pork like this. i have also use...   \n",
       "1  this recipe comes from a friend of mine. i had...   \n",
       "\n",
       "                                         ingredients  n_ingredients  \n",
       "0  ['sour mash', 'dark brown sugar', 'soy sauce',...              9  \n",
       "1  ['corn', 'cream cheese', 'rotel tomatoes & chi...              5  "
      ]
     },
     "execution_count": 16,
     "metadata": {},
     "output_type": "execute_result"
    }
   ],
   "source": [
    "data.head(2)"
   ]
  },
  {
   "cell_type": "code",
   "execution_count": 17,
   "id": "b40ce0bf",
   "metadata": {},
   "outputs": [
    {
     "data": {
      "text/html": [
       "<div>\n",
       "<style scoped>\n",
       "    .dataframe tbody tr th:only-of-type {\n",
       "        vertical-align: middle;\n",
       "    }\n",
       "\n",
       "    .dataframe tbody tr th {\n",
       "        vertical-align: top;\n",
       "    }\n",
       "\n",
       "    .dataframe thead th {\n",
       "        text-align: right;\n",
       "    }\n",
       "</style>\n",
       "<table border=\"1\" class=\"dataframe\">\n",
       "  <thead>\n",
       "    <tr style=\"text-align: right;\">\n",
       "      <th></th>\n",
       "      <th>user_id</th>\n",
       "      <th>recipe_id</th>\n",
       "      <th>date</th>\n",
       "      <th>rating</th>\n",
       "      <th>review</th>\n",
       "    </tr>\n",
       "  </thead>\n",
       "  <tbody>\n",
       "  </tbody>\n",
       "</table>\n",
       "</div>"
      ],
      "text/plain": [
       "Empty DataFrame\n",
       "Columns: [user_id, recipe_id, date, rating, review]\n",
       "Index: []"
      ]
     },
     "execution_count": 17,
     "metadata": {},
     "output_type": "execute_result"
    }
   ],
   "source": [
    "a[a.recipe_id == 31490]"
   ]
  },
  {
   "cell_type": "code",
   "execution_count": 18,
   "id": "ef0ef4eb",
   "metadata": {},
   "outputs": [
    {
     "data": {
      "text/html": [
       "<div>\n",
       "<style scoped>\n",
       "    .dataframe tbody tr th:only-of-type {\n",
       "        vertical-align: middle;\n",
       "    }\n",
       "\n",
       "    .dataframe tbody tr th {\n",
       "        vertical-align: top;\n",
       "    }\n",
       "\n",
       "    .dataframe thead th {\n",
       "        text-align: right;\n",
       "    }\n",
       "</style>\n",
       "<table border=\"1\" class=\"dataframe\">\n",
       "  <thead>\n",
       "    <tr style=\"text-align: right;\">\n",
       "      <th></th>\n",
       "      <th>name</th>\n",
       "      <th>id</th>\n",
       "      <th>minutes</th>\n",
       "      <th>contributor_id</th>\n",
       "      <th>submitted</th>\n",
       "      <th>tags</th>\n",
       "      <th>nutrition</th>\n",
       "      <th>n_steps</th>\n",
       "      <th>steps</th>\n",
       "      <th>description</th>\n",
       "      <th>ingredients</th>\n",
       "      <th>n_ingredients</th>\n",
       "    </tr>\n",
       "  </thead>\n",
       "  <tbody>\n",
       "  </tbody>\n",
       "</table>\n",
       "</div>"
      ],
      "text/plain": [
       "Empty DataFrame\n",
       "Columns: [name, id, minutes, contributor_id, submitted, tags, nutrition, n_steps, steps, description, ingredients, n_ingredients]\n",
       "Index: []"
      ]
     },
     "execution_count": 18,
     "metadata": {},
     "output_type": "execute_result"
    }
   ],
   "source": [
    "b[b.id == 31490]"
   ]
  },
  {
   "cell_type": "code",
   "execution_count": 19,
   "id": "b8f3dab0",
   "metadata": {},
   "outputs": [
    {
     "data": {
      "text/html": [
       "<div>\n",
       "<style scoped>\n",
       "    .dataframe tbody tr th:only-of-type {\n",
       "        vertical-align: middle;\n",
       "    }\n",
       "\n",
       "    .dataframe tbody tr th {\n",
       "        vertical-align: top;\n",
       "    }\n",
       "\n",
       "    .dataframe thead th {\n",
       "        text-align: right;\n",
       "    }\n",
       "</style>\n",
       "<table border=\"1\" class=\"dataframe\">\n",
       "  <thead>\n",
       "    <tr style=\"text-align: right;\">\n",
       "      <th></th>\n",
       "      <th>user_id</th>\n",
       "      <th>recipe_id</th>\n",
       "      <th>date</th>\n",
       "      <th>rating</th>\n",
       "      <th>review</th>\n",
       "      <th>name</th>\n",
       "      <th>id</th>\n",
       "      <th>minutes</th>\n",
       "      <th>contributor_id</th>\n",
       "      <th>submitted</th>\n",
       "      <th>tags</th>\n",
       "      <th>nutrition</th>\n",
       "      <th>n_steps</th>\n",
       "      <th>steps</th>\n",
       "      <th>description</th>\n",
       "      <th>ingredients</th>\n",
       "      <th>n_ingredients</th>\n",
       "    </tr>\n",
       "  </thead>\n",
       "  <tbody>\n",
       "  </tbody>\n",
       "</table>\n",
       "</div>"
      ],
      "text/plain": [
       "Empty DataFrame\n",
       "Columns: [user_id, recipe_id, date, rating, review, name, id, minutes, contributor_id, submitted, tags, nutrition, n_steps, steps, description, ingredients, n_ingredients]\n",
       "Index: []"
      ]
     },
     "execution_count": 19,
     "metadata": {},
     "output_type": "execute_result"
    }
   ],
   "source": [
    "data[data.recipe_id == 31490]"
   ]
  },
  {
   "cell_type": "code",
   "execution_count": 20,
   "id": "620529ed",
   "metadata": {
    "execution": {
     "iopub.execute_input": "2022-09-23T07:32:46.454127Z",
     "iopub.status.busy": "2022-09-23T07:32:46.453590Z",
     "iopub.status.idle": "2022-09-23T07:32:46.472242Z",
     "shell.execute_reply": "2022-09-23T07:32:46.471020Z"
    },
    "papermill": {
     "duration": 0.033055,
     "end_time": "2022-09-23T07:32:46.475274",
     "exception": false,
     "start_time": "2022-09-23T07:32:46.442219",
     "status": "completed"
    },
    "tags": []
   },
   "outputs": [],
   "source": [
    "data.drop([\"submitted\",\"contributor_id\",\"id\"],axis=1,inplace=True)"
   ]
  },
  {
   "cell_type": "code",
   "execution_count": 21,
   "id": "6103e345",
   "metadata": {
    "execution": {
     "iopub.execute_input": "2022-09-23T07:32:46.497669Z",
     "iopub.status.busy": "2022-09-23T07:32:46.497259Z",
     "iopub.status.idle": "2022-09-23T07:32:46.531363Z",
     "shell.execute_reply": "2022-09-23T07:32:46.530025Z"
    },
    "papermill": {
     "duration": 0.048303,
     "end_time": "2022-09-23T07:32:46.533985",
     "exception": false,
     "start_time": "2022-09-23T07:32:46.485682",
     "status": "completed"
    },
    "tags": []
   },
   "outputs": [
    {
     "data": {
      "text/html": [
       "<div>\n",
       "<style scoped>\n",
       "    .dataframe tbody tr th:only-of-type {\n",
       "        vertical-align: middle;\n",
       "    }\n",
       "\n",
       "    .dataframe tbody tr th {\n",
       "        vertical-align: top;\n",
       "    }\n",
       "\n",
       "    .dataframe thead th {\n",
       "        text-align: right;\n",
       "    }\n",
       "</style>\n",
       "<table border=\"1\" class=\"dataframe\">\n",
       "  <thead>\n",
       "    <tr style=\"text-align: right;\">\n",
       "      <th></th>\n",
       "      <th>user_id</th>\n",
       "      <th>recipe_id</th>\n",
       "      <th>rating</th>\n",
       "      <th>minutes</th>\n",
       "      <th>n_steps</th>\n",
       "      <th>n_ingredients</th>\n",
       "    </tr>\n",
       "  </thead>\n",
       "  <tbody>\n",
       "    <tr>\n",
       "      <th>count</th>\n",
       "      <td>1.055500e+04</td>\n",
       "      <td>10555.000000</td>\n",
       "      <td>10555.000000</td>\n",
       "      <td>1.055500e+04</td>\n",
       "      <td>10555.000000</td>\n",
       "      <td>10555.000000</td>\n",
       "    </tr>\n",
       "    <tr>\n",
       "      <th>mean</th>\n",
       "      <td>1.297178e+08</td>\n",
       "      <td>163727.646045</td>\n",
       "      <td>4.419896</td>\n",
       "      <td>2.035430e+05</td>\n",
       "      <td>9.520322</td>\n",
       "      <td>8.967598</td>\n",
       "    </tr>\n",
       "    <tr>\n",
       "      <th>std</th>\n",
       "      <td>4.862051e+08</td>\n",
       "      <td>131374.913252</td>\n",
       "      <td>1.251909</td>\n",
       "      <td>2.090262e+07</td>\n",
       "      <td>5.647990</td>\n",
       "      <td>3.723875</td>\n",
       "    </tr>\n",
       "    <tr>\n",
       "      <th>min</th>\n",
       "      <td>1.533000e+03</td>\n",
       "      <td>66.000000</td>\n",
       "      <td>0.000000</td>\n",
       "      <td>0.000000e+00</td>\n",
       "      <td>1.000000</td>\n",
       "      <td>1.000000</td>\n",
       "    </tr>\n",
       "    <tr>\n",
       "      <th>25%</th>\n",
       "      <td>1.331740e+05</td>\n",
       "      <td>54259.000000</td>\n",
       "      <td>4.000000</td>\n",
       "      <td>2.000000e+01</td>\n",
       "      <td>6.000000</td>\n",
       "      <td>6.000000</td>\n",
       "    </tr>\n",
       "    <tr>\n",
       "      <th>50%</th>\n",
       "      <td>3.305450e+05</td>\n",
       "      <td>127353.000000</td>\n",
       "      <td>5.000000</td>\n",
       "      <td>4.000000e+01</td>\n",
       "      <td>8.000000</td>\n",
       "      <td>9.000000</td>\n",
       "    </tr>\n",
       "    <tr>\n",
       "      <th>75%</th>\n",
       "      <td>7.813015e+05</td>\n",
       "      <td>251957.000000</td>\n",
       "      <td>5.000000</td>\n",
       "      <td>6.500000e+01</td>\n",
       "      <td>12.000000</td>\n",
       "      <td>11.000000</td>\n",
       "    </tr>\n",
       "    <tr>\n",
       "      <th>max</th>\n",
       "      <td>2.002349e+09</td>\n",
       "      <td>535108.000000</td>\n",
       "      <td>5.000000</td>\n",
       "      <td>2.147484e+09</td>\n",
       "      <td>97.000000</td>\n",
       "      <td>32.000000</td>\n",
       "    </tr>\n",
       "  </tbody>\n",
       "</table>\n",
       "</div>"
      ],
      "text/plain": [
       "            user_id      recipe_id        rating       minutes       n_steps  \\\n",
       "count  1.055500e+04   10555.000000  10555.000000  1.055500e+04  10555.000000   \n",
       "mean   1.297178e+08  163727.646045      4.419896  2.035430e+05      9.520322   \n",
       "std    4.862051e+08  131374.913252      1.251909  2.090262e+07      5.647990   \n",
       "min    1.533000e+03      66.000000      0.000000  0.000000e+00      1.000000   \n",
       "25%    1.331740e+05   54259.000000      4.000000  2.000000e+01      6.000000   \n",
       "50%    3.305450e+05  127353.000000      5.000000  4.000000e+01      8.000000   \n",
       "75%    7.813015e+05  251957.000000      5.000000  6.500000e+01     12.000000   \n",
       "max    2.002349e+09  535108.000000      5.000000  2.147484e+09     97.000000   \n",
       "\n",
       "       n_ingredients  \n",
       "count   10555.000000  \n",
       "mean        8.967598  \n",
       "std         3.723875  \n",
       "min         1.000000  \n",
       "25%         6.000000  \n",
       "50%         9.000000  \n",
       "75%        11.000000  \n",
       "max        32.000000  "
      ]
     },
     "execution_count": 21,
     "metadata": {},
     "output_type": "execute_result"
    }
   ],
   "source": [
    "data.describe()"
   ]
  },
  {
   "cell_type": "markdown",
   "id": "20abc525",
   "metadata": {
    "papermill": {
     "duration": 0.009961,
     "end_time": "2022-09-23T07:32:46.554491",
     "exception": false,
     "start_time": "2022-09-23T07:32:46.544530",
     "status": "completed"
    },
    "tags": []
   },
   "source": [
    "* Minutes & n_steps have outliear"
   ]
  },
  {
   "cell_type": "code",
   "execution_count": 22,
   "id": "bad3414a",
   "metadata": {},
   "outputs": [
    {
     "data": {
      "text/plain": [
       "Index(['user_id', 'recipe_id', 'date', 'rating', 'review', 'name', 'minutes',\n",
       "       'tags', 'nutrition', 'n_steps', 'steps', 'description', 'ingredients',\n",
       "       'n_ingredients'],\n",
       "      dtype='object')"
      ]
     },
     "execution_count": 22,
     "metadata": {},
     "output_type": "execute_result"
    }
   ],
   "source": [
    "data.columns"
   ]
  },
  {
   "cell_type": "code",
   "execution_count": 23,
   "id": "0c426da0",
   "metadata": {},
   "outputs": [
    {
     "data": {
      "text/plain": [
       "'[397.6, 12.0, 110.0, 62.0, 99.0, 13.0, 10.0]'"
      ]
     },
     "execution_count": 23,
     "metadata": {},
     "output_type": "execute_result"
    }
   ],
   "source": [
    "data.nutrition[0]"
   ]
  },
  {
   "cell_type": "code",
   "execution_count": 24,
   "id": "d4befb87",
   "metadata": {
    "execution": {
     "iopub.execute_input": "2022-09-23T07:32:46.577128Z",
     "iopub.status.busy": "2022-09-23T07:32:46.576671Z",
     "iopub.status.idle": "2022-09-23T07:32:46.690706Z",
     "shell.execute_reply": "2022-09-23T07:32:46.689608Z"
    },
    "papermill": {
     "duration": 0.128636,
     "end_time": "2022-09-23T07:32:46.693500",
     "exception": false,
     "start_time": "2022-09-23T07:32:46.564864",
     "status": "completed"
    },
    "tags": []
   },
   "outputs": [],
   "source": [
    "data[['calories','total fat','sugar','sodium','protein','saturated fat','carbohydrates']] = data.nutrition.str.split(\",\",expand=True) \n",
    "data['calories'] = data['calories'].apply(lambda x: x.replace(\"[\" ,\"\"))\n",
    "data['carbohydrates'] = data['carbohydrates'].apply(lambda x: x.replace(\"]\" ,\"\"))\n",
    "data[['calories','total fat','sugar','sodium','protein','saturated fat','carbohydrates']] =  data[['calories','total fat','sugar','sodium','protein','saturated fat','carbohydrates']].astype(float)"
   ]
  },
  {
   "cell_type": "code",
   "execution_count": 25,
   "id": "3242d9ac",
   "metadata": {
    "execution": {
     "iopub.execute_input": "2022-09-23T07:32:46.715983Z",
     "iopub.status.busy": "2022-09-23T07:32:46.715548Z",
     "iopub.status.idle": "2022-09-23T07:32:47.598369Z",
     "shell.execute_reply": "2022-09-23T07:32:47.597044Z"
    },
    "papermill": {
     "duration": 0.89718,
     "end_time": "2022-09-23T07:32:47.601093",
     "exception": false,
     "start_time": "2022-09-23T07:32:46.703913",
     "status": "completed"
    },
    "tags": []
   },
   "outputs": [
    {
     "data": {
      "text/plain": [
       "<Axes: xlabel='n_steps', ylabel='Density'>"
      ]
     },
     "execution_count": 25,
     "metadata": {},
     "output_type": "execute_result"
    },
    {
     "data": {
      "image/png": "[encoded data removed]",
      "text/plain": [
       "<Figure size 1500x400 with 2 Axes>"
      ]
     },
     "metadata": {},
     "output_type": "display_data"
    }
   ],
   "source": [
    "fig,ax = plt.subplots(1,2,figsize=(15,4))\n",
    "sns.distplot(data[\"minutes\"],ax=ax[0])\n",
    "sns.distplot(data[\"n_steps\"],ax=ax[1])"
   ]
  },
  {
   "cell_type": "code",
   "execution_count": 26,
   "id": "6fa4fb04",
   "metadata": {
    "execution": {
     "iopub.execute_input": "2022-09-23T07:32:47.625160Z",
     "iopub.status.busy": "2022-09-23T07:32:47.624718Z",
     "iopub.status.idle": "2022-09-23T07:32:47.938353Z",
     "shell.execute_reply": "2022-09-23T07:32:47.936918Z"
    },
    "papermill": {
     "duration": 0.328997,
     "end_time": "2022-09-23T07:32:47.941358",
     "exception": false,
     "start_time": "2022-09-23T07:32:47.612361",
     "status": "completed"
    },
    "tags": []
   },
   "outputs": [
    {
     "data": {
      "text/plain": [
       "<Axes: >"
      ]
     },
     "execution_count": 26,
     "metadata": {},
     "output_type": "execute_result"
    },
    {
     "data": {
      "image/png": "[encoded data removed]",
      "text/plain": [
       "<Figure size 1500x400 with 2 Axes>"
      ]
     },
     "metadata": {},
     "output_type": "display_data"
    }
   ],
   "source": [
    "fig,ax = plt.subplots(1,2,figsize=(15,4))\n",
    "sns.boxplot(data=data[\"minutes\"],ax=ax[0])\n",
    "sns.boxplot(data=data[\"n_steps\"],ax=ax[1])"
   ]
  },
  {
   "cell_type": "code",
   "execution_count": 27,
   "id": "3e93a761",
   "metadata": {
    "execution": {
     "iopub.execute_input": "2022-09-23T07:32:47.965819Z",
     "iopub.status.busy": "2022-09-23T07:32:47.965368Z",
     "iopub.status.idle": "2022-09-23T07:32:47.983921Z",
     "shell.execute_reply": "2022-09-23T07:32:47.982521Z"
    },
    "papermill": {
     "duration": 0.033921,
     "end_time": "2022-09-23T07:32:47.986756",
     "exception": false,
     "start_time": "2022-09-23T07:32:47.952835",
     "status": "completed"
    },
    "tags": []
   },
   "outputs": [],
   "source": [
    "q1 = np.percentile(data[\"minutes\"],25)\n",
    "q3 = np.percentile(data[\"minutes\"],75)\n",
    "IQR = q3- q1\n",
    "upper = q3 + 1.5*IQR\n",
    "lower = q1 - 1.5*IQR\n",
    "\n",
    "data = data.drop((data[data[\"minutes\"]>=upper].index | data[data[\"minutes\"]<=lower].index),axis=0)"
   ]
  },
  {
   "cell_type": "code",
   "execution_count": 28,
   "id": "7d32a74e",
   "metadata": {
    "execution": {
     "iopub.execute_input": "2022-09-23T07:32:48.012817Z",
     "iopub.status.busy": "2022-09-23T07:32:48.011685Z",
     "iopub.status.idle": "2022-09-23T07:32:48.027699Z",
     "shell.execute_reply": "2022-09-23T07:32:48.026442Z"
    },
    "papermill": {
     "duration": 0.03217,
     "end_time": "2022-09-23T07:32:48.030540",
     "exception": false,
     "start_time": "2022-09-23T07:32:47.998370",
     "status": "completed"
    },
    "tags": []
   },
   "outputs": [],
   "source": [
    "q1 = np.percentile(data[\"n_steps\"],25)\n",
    "q3 = np.percentile(data[\"n_steps\"],75)\n",
    "IQR = q3- q1\n",
    "upper = q3 + 1.5*IQR\n",
    "lower = q1 - 1.5*IQR\n",
    "\n",
    "data = data.drop((data[data[\"n_steps\"]>=upper].index | data[data[\"n_steps\"]<=lower].index),axis=0)"
   ]
  },
  {
   "cell_type": "code",
   "execution_count": 29,
   "id": "4dcf2404",
   "metadata": {
    "execution": {
     "iopub.execute_input": "2022-09-23T07:32:48.055270Z",
     "iopub.status.busy": "2022-09-23T07:32:48.054805Z",
     "iopub.status.idle": "2022-09-23T07:32:49.167362Z",
     "shell.execute_reply": "2022-09-23T07:32:49.166274Z"
    },
    "papermill": {
     "duration": 1.127502,
     "end_time": "2022-09-23T07:32:49.169746",
     "exception": false,
     "start_time": "2022-09-23T07:32:48.042244",
     "status": "completed"
    },
    "tags": []
   },
   "outputs": [
    {
     "data": {
      "text/plain": [
       "<Axes: >"
      ]
     },
     "execution_count": 29,
     "metadata": {},
     "output_type": "execute_result"
    },
    {
     "data": {
      "image/png": "[encoded data removed]",
      "text/plain": [
       "<Figure size 1400x600 with 2 Axes>"
      ]
     },
     "metadata": {},
     "output_type": "display_data"
    }
   ],
   "source": [
    "plt.figure(figsize=(14,6))\n",
    "sns.heatmap(data.corr(),annot=True)"
   ]
  },
  {
   "cell_type": "code",
   "execution_count": 30,
   "id": "11b2e298",
   "metadata": {
    "execution": {
     "iopub.execute_input": "2022-09-23T07:32:49.198620Z",
     "iopub.status.busy": "2022-09-23T07:32:49.197450Z",
     "iopub.status.idle": "2022-09-23T07:32:51.441157Z",
     "shell.execute_reply": "2022-09-23T07:32:51.439648Z"
    },
    "papermill": {
     "duration": 2.262426,
     "end_time": "2022-09-23T07:32:51.445616",
     "exception": false,
     "start_time": "2022-09-23T07:32:49.183190",
     "status": "completed"
    },
    "tags": []
   },
   "outputs": [
    {
     "data": {
      "text/plain": [
       "<Axes: xlabel='n_ingredients', ylabel='minutes'>"
      ]
     },
     "execution_count": 30,
     "metadata": {},
     "output_type": "execute_result"
    },
    {
     "data": {
      "image/png": "[encoded data removed]",
      "text/plain": [
       "<Figure size 1500x400 with 2 Axes>"
      ]
     },
     "metadata": {},
     "output_type": "display_data"
    }
   ],
   "source": [
    "fig,ax = plt.subplots(1,2,figsize=(15,4))\n",
    "sns.scatterplot(data=data,x=\"n_steps\",y=\"minutes\" ,hue=\"rating\",ax=ax[0])\n",
    "sns.scatterplot(data=data,x=\"n_ingredients\",y=\"minutes\" ,hue=\"rating\",ax=ax[1])"
   ]
  },
  {
   "cell_type": "code",
   "execution_count": 31,
   "id": "5e49788a",
   "metadata": {
    "execution": {
     "iopub.execute_input": "2022-09-23T07:32:51.479618Z",
     "iopub.status.busy": "2022-09-23T07:32:51.479182Z",
     "iopub.status.idle": "2022-09-23T07:32:53.322917Z",
     "shell.execute_reply": "2022-09-23T07:32:53.321664Z"
    },
    "papermill": {
     "duration": 1.863554,
     "end_time": "2022-09-23T07:32:53.325831",
     "exception": false,
     "start_time": "2022-09-23T07:32:51.462277",
     "status": "completed"
    },
    "tags": []
   },
   "outputs": [
    {
     "data": {
      "text/plain": [
       "<Axes: xlabel='carbohydrates', ylabel='sugar'>"
      ]
     },
     "execution_count": 31,
     "metadata": {},
     "output_type": "execute_result"
    },
    {
     "data": {
      "image/png": "[encoded data removed]",
      "text/plain": [
       "<Figure size 1500x400 with 2 Axes>"
      ]
     },
     "metadata": {},
     "output_type": "display_data"
    }
   ],
   "source": [
    "fig,ax = plt.subplots(1,2,figsize=(15,4))\n",
    "sns.scatterplot(data=data,x=\"total fat\",y=\"calories\" ,hue=\"rating\",ax=ax[0])\n",
    "sns.scatterplot(data=data,x=\"carbohydrates\",y=\"sugar\" ,hue=\"rating\",ax=ax[1])"
   ]
  },
  {
   "cell_type": "code",
   "execution_count": 32,
   "id": "7cfe5a29",
   "metadata": {
    "execution": {
     "iopub.execute_input": "2022-09-23T07:32:53.360690Z",
     "iopub.status.busy": "2022-09-23T07:32:53.360248Z",
     "iopub.status.idle": "2022-09-23T07:32:56.171824Z",
     "shell.execute_reply": "2022-09-23T07:32:56.170875Z"
    },
    "papermill": {
     "duration": 2.832597,
     "end_time": "2022-09-23T07:32:56.174813",
     "exception": false,
     "start_time": "2022-09-23T07:32:53.342216",
     "status": "completed"
    },
    "tags": []
   },
   "outputs": [
    {
     "data": {
      "text/plain": [
       "<Axes: xlabel='n_steps', ylabel='n_ingredients'>"
      ]
     },
     "execution_count": 32,
     "metadata": {},
     "output_type": "execute_result"
    },
    {
     "data": {
      "image/png": "[encoded data removed]",
      "text/plain": [
       "<Figure size 1800x400 with 3 Axes>"
      ]
     },
     "metadata": {},
     "output_type": "display_data"
    }
   ],
   "source": [
    "fig,ax = plt.subplots(1,3,figsize=(18,4))\n",
    "sns.barplot(data=data,y=\"rating\",x=\"n_ingredients\",ax=ax[0])\n",
    "sns.barplot(data=data,y=\"rating\",x=\"n_steps\",ax=ax[1])\n",
    "sns.barplot(data=data,y=\"n_ingredients\",x=\"n_steps\",ax=ax[2])"
   ]
  },
  {
   "cell_type": "code",
   "execution_count": 33,
   "id": "627f2824",
   "metadata": {
    "execution": {
     "iopub.execute_input": "2022-09-23T07:32:56.211067Z",
     "iopub.status.busy": "2022-09-23T07:32:56.210598Z",
     "iopub.status.idle": "2022-09-23T07:32:56.248572Z",
     "shell.execute_reply": "2022-09-23T07:32:56.247233Z"
    },
    "papermill": {
     "duration": 0.059259,
     "end_time": "2022-09-23T07:32:56.251535",
     "exception": false,
     "start_time": "2022-09-23T07:32:56.192276",
     "status": "completed"
    },
    "tags": []
   },
   "outputs": [],
   "source": [
    "data.isnull().sum()\n",
    "data.dropna(inplace=True)"
   ]
  },
  {
   "cell_type": "code",
   "execution_count": 34,
   "id": "93cf7e87",
   "metadata": {},
   "outputs": [
    {
     "data": {
      "text/plain": [
       "(8874, 21)"
      ]
     },
     "execution_count": 34,
     "metadata": {},
     "output_type": "execute_result"
    }
   ],
   "source": [
    "data.shape"
   ]
  },
  {
   "cell_type": "code",
   "execution_count": 35,
   "id": "344a6a06",
   "metadata": {},
   "outputs": [],
   "source": [
    "def name_strip(data):\n",
    "    data = data.lower().replace(\"  \", \" \")\n",
    "    data = data.strip()\n",
    "    return data\n",
    "\n",
    "data['name'] = data['name'].apply(name_strip)"
   ]
  },
  {
   "cell_type": "code",
   "execution_count": 36,
   "id": "516d7e40",
   "metadata": {
    "scrolled": true
   },
   "outputs": [
    {
     "data": {
      "text/plain": [
       "1        ['corn', 'cream cheese', 'rotel tomatoes & chi...\n",
       "2        ['cream cheese', 'sugar', 'key lime juice', 'c...\n",
       "3        ['sugar', 'cocoa', 'salt', 'butter', 'milk', '...\n",
       "4        ['vegetable oil', 'cajun seasoning', 'italian ...\n",
       "5        ['vinegar', 'garlic cloves', 'dark molasses', ...\n",
       "                               ...                        \n",
       "10548    ['plum tomatoes', 'cucumber', 'cubanelle peppe...\n",
       "10549    ['meatloaf', 'monterey jack cheese', 'whole gr...\n",
       "10550    ['fruit cocktail', 'mini marshmallows', 'walnu...\n",
       "10551    ['ritz crackers', 'peanut butter', 'white choc...\n",
       "10554    ['hamburger meat', 'american cheese', 'lettuce...\n",
       "Name: ingredients, Length: 8874, dtype: object"
      ]
     },
     "execution_count": 36,
     "metadata": {},
     "output_type": "execute_result"
    }
   ],
   "source": [
    "data.ingredients"
   ]
  },
  {
   "cell_type": "code",
   "execution_count": 37,
   "id": "a9d56ce1",
   "metadata": {},
   "outputs": [
    {
     "data": {
      "text/plain": [
       "(4242,\n",
       " ['corn',\n",
       "  'cream cheese',\n",
       "  'rotel tomatoes & chilies',\n",
       "  'butter',\n",
       "  'salt and pepper',\n",
       "  'sugar',\n",
       "  'key lime juice',\n",
       "  'cool whip',\n",
       "  'graham cracker pie crust',\n",
       "  'cocoa',\n",
       "  'salt',\n",
       "  'milk',\n",
       "  'peanut butter',\n",
       "  'quick-cooking oats',\n",
       "  'vanilla',\n",
       "  'vegetable oil',\n",
       "  'cajun seasoning',\n",
       "  'italian seasoning',\n",
       "  'lemon pepper',\n",
       "  'garlic powder',\n",
       "  'boneless skinless chicken breast halves',\n",
       "  'vinegar',\n",
       "  'garlic cloves',\n",
       "  'dark molasses',\n",
       "  'onion powder',\n",
       "  'salmon fillet',\n",
       "  'sour cream',\n",
       "  'prepared mustard',\n",
       "  'onions',\n",
       "  'dried dill weed',\n",
       "  'mayonnaise',\n",
       "  'parmesan cheese',\n",
       "  'cheddar cheese',\n",
       "  'paprika',\n",
       "  'long grain rice',\n",
       "  'water',\n",
       "  'white vinegar',\n",
       "  'self raising flour',\n",
       "  'baking powder',\n",
       "  'honey',\n",
       "  'bananas',\n",
       "  'flour',\n",
       "  'light brown sugar',\n",
       "  'baking soda',\n",
       "  'cinnamon',\n",
       "  'ginger',\n",
       "  'clove',\n",
       "  'cider vinegar',\n",
       "  'low-fat buttermilk',\n",
       "  'egg',\n",
       "  'ground cinnamon',\n",
       "  'table salt',\n",
       "  'vanilla extract',\n",
       "  'braeburn apple',\n",
       "  'unsweetened applesauce',\n",
       "  'all-purpose flour',\n",
       "  'cooking spray',\n",
       "  'potatoes',\n",
       "  'low-fat cheddar cheese',\n",
       "  'canadian bacon',\n",
       "  'green onion',\n",
       "  'eggs',\n",
       "  'nonfat milk',\n",
       "  'salt & pepper',\n",
       "  'cayenne pepper',\n",
       "  'green grapes',\n",
       "  'pecans',\n",
       "  'french baguette',\n",
       "  'black pepper',\n",
       "  'pasta',\n",
       "  'mozzarella cheese',\n",
       "  'ground beef',\n",
       "  'garlic',\n",
       "  'season salt',\n",
       "  'fresh parsley',\n",
       "  'breadcrumbs',\n",
       "  'worcestershire sauce',\n",
       "  'tabasco sauce',\n",
       "  'pecan halves',\n",
       "  'bulk sausage',\n",
       "  'chunky salsa',\n",
       "  'flour tortillas',\n",
       "  'green pepper',\n",
       "  'jalapeno',\n",
       "  'green chilies',\n",
       "  'garlic clove',\n",
       "  'onion',\n",
       "  'tomatoes',\n",
       "  'green onions',\n",
       "  'margarine',\n",
       "  'marshmallow cream',\n",
       "  'walnuts',\n",
       "  'nonstick cooking spray',\n",
       "  'unsalted butter',\n",
       "  'brown sugar',\n",
       "  'canned pumpkin puree',\n",
       "  'gingerroot',\n",
       "  'ground nutmeg',\n",
       "  'ground allspice',\n",
       "  'crystallized ginger',\n",
       "  'dates',\n",
       "  'carob powder',\n",
       "  'cocoa powder',\n",
       "  'unsweetened coconut',\n",
       "  'serrano ham',\n",
       "  'green asparagus',\n",
       "  'peas',\n",
       "  'olive oil',\n",
       "  'cucumber',\n",
       "  'fresh basil',\n",
       "  'garlic salt',\n",
       "  'pepper',\n",
       "  'frangelico',\n",
       "  'butterscotch schnapps',\n",
       "  'godiva milk chocolate liqueur',\n",
       "  'liqueur',\n",
       "  'ice',\n",
       "  'sesame oil',\n",
       "  'granulated sugar',\n",
       "  'ground cloves',\n",
       "  'ground ginger',\n",
       "  'candied ginger',\n",
       "  'rolled oats',\n",
       "  'caster sugar',\n",
       "  'bicarbonate of soda',\n",
       "  'medium shrimp',\n",
       "  'chopped tomato',\n",
       "  'red onion',\n",
       "  'jalapeno chile',\n",
       "  'fresh cilantro',\n",
       "  'butter lettuce',\n",
       "  'nonfat sour cream',\n",
       "  'low-fat cream cheese',\n",
       "  'fresh lime juice',\n",
       "  'sea salt',\n",
       "  'white pepper',\n",
       "  'long-grain white rice',\n",
       "  'chicken bouillon',\n",
       "  'boneless skinless chicken breasts',\n",
       "  'oregano',\n",
       "  'ground rosemary',\n",
       "  'ground marjoram',\n",
       "  'oil',\n",
       "  'flax seed meal',\n",
       "  'dried fruit',\n",
       "  'sunflower seeds',\n",
       "  'shredded coconut',\n",
       "  'nut butter',\n",
       "  'spirulina powder',\n",
       "  'coconut',\n",
       "  'coconut milk powder',\n",
       "  'molasses',\n",
       "  'ginger powder',\n",
       "  'allspice',\n",
       "  'nutmeg',\n",
       "  'raisins',\n",
       "  'velveeta cheese',\n",
       "  'salsa',\n",
       "  'frozen chopped spinach',\n",
       "  'tortilla chips',\n",
       "  'white wine',\n",
       "  'salt & freshly ground black pepper',\n",
       "  'dried oregano leaves',\n",
       "  'medium-sized shrimp',\n",
       "  'red pepper flakes',\n",
       "  'feta cheese',\n",
       "  'rigatoni pasta',\n",
       "  'granny smith apples',\n",
       "  'simply potatoes homestyle slices',\n",
       "  'yellow onion',\n",
       "  'brie cheese',\n",
       "  'salted butter',\n",
       "  'broccoli',\n",
       "  'teriyaki sauce',\n",
       "  'fresh ground black pepper',\n",
       "  'olive oil flavored cooking spray',\n",
       "  'balsamic vinegar',\n",
       "  'flat iron steaks',\n",
       "  'brussels sprout',\n",
       "  'bacon',\n",
       "  'pistachios',\n",
       "  'unsweetened cocoa powder',\n",
       "  'pure vanilla extract',\n",
       "  'powdered sugar',\n",
       "  'parchment paper',\n",
       "  'french bread',\n",
       "  'parsley flakes',\n",
       "  'aluminum foil',\n",
       "  'potato chips',\n",
       "  'cooked bacon',\n",
       "  'parsley',\n",
       "  'maraschino cherries',\n",
       "  'peaches',\n",
       "  'crushed pineapple',\n",
       "  'yellow cake mix',\n",
       "  'cornmeal',\n",
       "  'evaporated milk',\n",
       "  'lemon juice',\n",
       "  'sharp cheddar cheese',\n",
       "  'carrot',\n",
       "  'pineapple juice',\n",
       "  'banana',\n",
       "  'ice cube',\n",
       "  'limes',\n",
       "  'watermelon',\n",
       "  'flat leaf parsley',\n",
       "  'mint',\n",
       "  'extra virgin olive oil',\n",
       "  'pitted black olives',\n",
       "  'old fashioned oats',\n",
       "  'dried cherries',\n",
       "  'vanilla protein powder',\n",
       "  'cherry jam',\n",
       "  'low-fat milk',\n",
       "  'beer',\n",
       "  'peanuts',\n",
       "  'soy sauce',\n",
       "  'lime zest',\n",
       "  'corn tortillas',\n",
       "  'ear of corn',\n",
       "  'black beans',\n",
       "  'mixed greens',\n",
       "  'romaine lettuce',\n",
       "  'avocado',\n",
       "  'celery ribs',\n",
       "  'carrots',\n",
       "  'green bell pepper',\n",
       "  'italian plum tomatoes',\n",
       "  'hen',\n",
       "  'fresh italian parsley',\n",
       "  'sea scallops',\n",
       "  'fresh thyme leave',\n",
       "  'buttermilk',\n",
       "  'ritz crackers',\n",
       "  'lemon',\n",
       "  'chocolate chips',\n",
       "  'sweetened condensed milk',\n",
       "  'egg yolks',\n",
       "  'lime juice',\n",
       "  '9-inch graham cracker crust',\n",
       "  'toast',\n",
       "  'dried basil',\n",
       "  'dried marjoram',\n",
       "  'dried greek oregano',\n",
       "  'dried tarragon',\n",
       "  'dried chervil',\n",
       "  'ground sage',\n",
       "  'celery seed',\n",
       "  'dried savory',\n",
       "  'dried thyme',\n",
       "  'yellow mustard',\n",
       "  'dried rosemary',\n",
       "  'bay leaves',\n",
       "  'ground cardamom',\n",
       "  'crushed red pepper flakes',\n",
       "  'lean ground beef',\n",
       "  'mexican oregano',\n",
       "  'chili powder',\n",
       "  'cumin',\n",
       "  'refried beans',\n",
       "  'enchilada sauce',\n",
       "  'beef gravy',\n",
       "  'lettuce',\n",
       "  'anjou pear',\n",
       "  'chutney',\n",
       "  'dried currants',\n",
       "  'strawberry',\n",
       "  'ice cubes',\n",
       "  'cake flour',\n",
       "  'vanilla pudding mix',\n",
       "  'root beer extract',\n",
       "  \"confectioners' sugar\",\n",
       "  'heavy cream',\n",
       "  'onion flakes',\n",
       "  'thyme',\n",
       "  'cayenne',\n",
       "  'sage',\n",
       "  'chives',\n",
       "  'red peppers',\n",
       "  'habanero pepper',\n",
       "  'rum',\n",
       "  'crushed tomatoes',\n",
       "  'jamaican jerk spice',\n",
       "  'macaroni',\n",
       "  'cream',\n",
       "  'penne rigate',\n",
       "  'chicken',\n",
       "  'dried parsley flakes',\n",
       "  'pastry for single-crust pie',\n",
       "  'apples',\n",
       "  'quick-cooking rolled oats',\n",
       "  'chicken breasts',\n",
       "  'roasted cashew nuts',\n",
       "  'spring onions',\n",
       "  'pineapple chunks in juice',\n",
       "  'sunflower oil',\n",
       "  'rice wine',\n",
       "  'golden syrup',\n",
       "  'tomato ketchup',\n",
       "  'cornflour',\n",
       "  'chinese five spice powder',\n",
       "  'collard greens',\n",
       "  'seasoning salt',\n",
       "  'chicken stock',\n",
       "  'yeast',\n",
       "  'instant coffee',\n",
       "  'ground turkey',\n",
       "  'turkey stuffing mix',\n",
       "  'celery',\n",
       "  'dried cranberries',\n",
       "  'lavender flowers',\n",
       "  'soda water',\n",
       "  'lime',\n",
       "  'wheat germ',\n",
       "  'sesame seeds',\n",
       "  'low-fat sour cream',\n",
       "  'white sugar',\n",
       "  'orange rind',\n",
       "  'cranberries',\n",
       "  'kosher salt',\n",
       "  'fresh ground pepper',\n",
       "  'warm water',\n",
       "  'peanut oil',\n",
       "  'red curry paste',\n",
       "  'coconut milk',\n",
       "  'chicken broth',\n",
       "  'red bell pepper',\n",
       "  'mango',\n",
       "  'straw mushrooms',\n",
       "  'fish sauce',\n",
       "  'cilantro',\n",
       "  'white rice',\n",
       "  'vodka',\n",
       "  'blue curacao',\n",
       "  'blueberry schnapps',\n",
       "  'lemonade',\n",
       "  'farfalle pasta',\n",
       "  'italian sausage',\n",
       "  'yellow pepper',\n",
       "  'spaghetti sauce',\n",
       "  'chicken stock cube',\n",
       "  'fresh herb',\n",
       "  'boiling water',\n",
       "  'dried oregano',\n",
       "  'ground black pepper',\n",
       "  'whole canned tomatoes',\n",
       "  'tomato sauce',\n",
       "  'tomato paste',\n",
       "  'dry red wine',\n",
       "  'russet potatoes',\n",
       "  'pork spareribs',\n",
       "  'oyster sauce',\n",
       "  'soft brown sugar',\n",
       "  'rosemary',\n",
       "  'peanut butter morsels',\n",
       "  'semisweet chocolate morsel',\n",
       "  'marshmallow creme',\n",
       "  'blended oatmeal',\n",
       "  'hershey bars',\n",
       "  'nuts',\n",
       "  'barbecue sauce',\n",
       "  'cheese',\n",
       "  'banana liqueur',\n",
       "  'coconut rum',\n",
       "  'cranberry juice',\n",
       "  'jicama',\n",
       "  'acorn squash',\n",
       "  'apple juice',\n",
       "  'vegetarian broth',\n",
       "  'apple',\n",
       "  'yogurt',\n",
       "  'white wine vinegar',\n",
       "  'dry mustard',\n",
       "  'marjoram',\n",
       "  'scallion',\n",
       "  'turnips',\n",
       "  'maple syrup',\n",
       "  'fresh ginger',\n",
       "  'fresh chinese noodles',\n",
       "  'hot chili oil',\n",
       "  'szechuan peppercorns',\n",
       "  'sesame paste',\n",
       "  'hot red pepper flakes',\n",
       "  'ketchup',\n",
       "  'ground mustard',\n",
       "  'crispix cereal',\n",
       "  'gin',\n",
       "  'cointreau liqueur',\n",
       "  'lemon zest',\n",
       "  'fresh lemon juice',\n",
       "  'brussels sprouts',\n",
       "  'lemon-pepper seasoning',\n",
       "  'cannellini beans',\n",
       "  'half-and-half',\n",
       "  'ground cumin',\n",
       "  'mild green chilies',\n",
       "  'boneless chicken breasts',\n",
       "  'monterey jack cheese',\n",
       "  'coriander',\n",
       "  'eggplant',\n",
       "  'egg white',\n",
       "  'seasoned dry bread crumb',\n",
       "  'boboli pizza crust',\n",
       "  'pasta sauce',\n",
       "  'white flour',\n",
       "  'whipped cream',\n",
       "  'cooked beef',\n",
       "  'cream of mushroom soup',\n",
       "  'mushroom',\n",
       "  'beef bouillon',\n",
       "  'yellow onions',\n",
       "  'red bell peppers',\n",
       "  'yellow bell peppers',\n",
       "  'dried red pepper flakes',\n",
       "  'fresh basil leaf',\n",
       "  'chicken breast halves',\n",
       "  'ranch dressing mix',\n",
       "  'dry breadcrumbs',\n",
       "  'cracker',\n",
       "  'sliced mushrooms',\n",
       "  'marsala',\n",
       "  'parmigiano',\n",
       "  'fresh basil leaves',\n",
       "  'fresh lemon',\n",
       "  'raw honey',\n",
       "  'dry white wine',\n",
       "  'whole milk',\n",
       "  'coffee liqueur',\n",
       "  'linguine',\n",
       "  'shiitake mushroom caps',\n",
       "  'saffron',\n",
       "  'diced tomatoes with basil and garlic',\n",
       "  'lemon, juice and zest of',\n",
       "  'capers',\n",
       "  'fresh spinach leaves',\n",
       "  'dried parsley',\n",
       "  'fennel bulb',\n",
       "  'herbes de provence',\n",
       "  'olive bread',\n",
       "  'tomato juice',\n",
       "  'clam juice',\n",
       "  'hot sauce',\n",
       "  'celery salt',\n",
       "  'broccoli and cheese flavored rice mix',\n",
       "  'frozen broccoli',\n",
       "  'pine nuts',\n",
       "  'baby spinach leaves',\n",
       "  'shallots',\n",
       "  'green beans',\n",
       "  'basil',\n",
       "  'cherry tomatoes',\n",
       "  'boneless pork chops',\n",
       "  'limes, juice of',\n",
       "  'low-sodium taco seasoning',\n",
       "  'tomatoes and green chilies',\n",
       "  'black olives',\n",
       "  'avocados',\n",
       "  'rubbed sage',\n",
       "  'catsup',\n",
       "  'fingerling potato',\n",
       "  'broccoli florets',\n",
       "  'extra lean ground beef',\n",
       "  'lean ground turkey',\n",
       "  'extra lean ground pork',\n",
       "  'asparagus spears',\n",
       "  'light cream',\n",
       "  'italian salad dressing',\n",
       "  'frozen broccoli carrots cauliflower mix',\n",
       "  'pork and beans',\n",
       "  'cheese spread',\n",
       "  'apple pie filling',\n",
       "  'wonton wrappers',\n",
       "  'ice cream',\n",
       "  'center-cut pork chops',\n",
       "  'beef broth',\n",
       "  'curry powder',\n",
       "  'sausages',\n",
       "  'green peppers',\n",
       "  'sweet potatoes',\n",
       "  'whipped topping',\n",
       "  'hershey chocolate kisses',\n",
       "  'fudge-striped shortbread cookies',\n",
       "  'orange decorating icing',\n",
       "  'fresh strawberries',\n",
       "  'fresh raspberries',\n",
       "  'fresh blueberries',\n",
       "  'littleneck clams',\n",
       "  'baby clams',\n",
       "  'frozen peas',\n",
       "  'hot pepper sauce',\n",
       "  'boneless sirloin steak',\n",
       "  'light soy sauce',\n",
       "  'baby potatoes',\n",
       "  'grand marnier',\n",
       "  'egg substitute',\n",
       "  'sirloin tip steaks',\n",
       "  'plain yogurt',\n",
       "  'dried dill',\n",
       "  'red wine vinegar',\n",
       "  'leeks',\n",
       "  'swiss cheese',\n",
       "  'red wine',\n",
       "  'fettuccine',\n",
       "  'zucchini',\n",
       "  'mangoes',\n",
       "  'shortening',\n",
       "  'almond extract',\n",
       "  'bleached all purpose flour',\n",
       "  'raw sugar',\n",
       "  'rice flour',\n",
       "  'guar gum',\n",
       "  'crispy rice cereal',\n",
       "  'semisweet vegan chocolate chips',\n",
       "  'croissant dough',\n",
       "  'dill weed',\n",
       "  'fresh tomato',\n",
       "  'olive',\n",
       "  'green bell peppers',\n",
       "  'boudin sausages',\n",
       "  'monterey jack pepper cheese',\n",
       "  'whipping cream',\n",
       "  'vanilla instant pudding mix',\n",
       "  'firm tofu',\n",
       "  'thai red curry paste',\n",
       "  'vegetable broth',\n",
       "  'yellow split peas',\n",
       "  'vegetable stock',\n",
       "  'vegetable bouillon',\n",
       "  'frozen spinach',\n",
       "  'artichoke hearts',\n",
       "  'heavy whipping cream',\n",
       "  'sun-dried tomatoes',\n",
       "  'meatless sauce',\n",
       "  'ziti pasta',\n",
       "  'pearl barley',\n",
       "  'vegetables',\n",
       "  'fresh parsley leaves',\n",
       "  'cornstarch',\n",
       "  'fruit',\n",
       "  'quick oats',\n",
       "  'hot dogs',\n",
       "  'macaroni & cheese dinner mix',\n",
       "  'boneless lean pork',\n",
       "  'stewed tomatoes',\n",
       "  'blackberry jam',\n",
       "  'chicken pieces',\n",
       "  'vanilla ice cream',\n",
       "  'instant malted milk powder',\n",
       "  'milk chocolate chips',\n",
       "  'caramel sauce',\n",
       "  'chocolate syrup',\n",
       "  'malted milk balls',\n",
       "  'ground chuck',\n",
       "  'lard',\n",
       "  'prepared yellow mustard',\n",
       "  'taco seasoning mix',\n",
       "  'instant rice',\n",
       "  'kielbasa',\n",
       "  'red potatoes',\n",
       "  'fresh rosemary',\n",
       "  'crescent roll dough',\n",
       "  'boneless pork loin chops',\n",
       "  'reduced-fat butter',\n",
       "  'tart apples',\n",
       "  'orange',\n",
       "  'orange juice',\n",
       "  'english muffin',\n",
       "  'vegemite',\n",
       "  'processed cheese',\n",
       "  'beef stock',\n",
       "  'orange marmalade',\n",
       "  'venison',\n",
       "  'snow peas',\n",
       "  'baby corn',\n",
       "  'uncooked rice',\n",
       "  'lemon extract',\n",
       "  'sirloin steaks',\n",
       "  'salad greens',\n",
       "  'red onions',\n",
       "  'kaffir lime leaves',\n",
       "  'red chilies',\n",
       "  'cilantro leaf',\n",
       "  'mint leaf',\n",
       "  'basil leaves',\n",
       "  'soya sauce',\n",
       "  'bread flour',\n",
       "  'active dry yeast',\n",
       "  'diced green chilies',\n",
       "  'ranch-style pinto beans',\n",
       "  'yellow hominy',\n",
       "  'boneless rib-eye steak',\n",
       "  'sweet paprika',\n",
       "  'popcorn',\n",
       "  'fresh breadcrumb',\n",
       "  'graham cracker crumbs',\n",
       "  'v8 vegetable juice',\n",
       "  'pickle juice',\n",
       "  'peach jam',\n",
       "  'skinless chicken pieces',\n",
       "  'mixed vegetables',\n",
       "  'cooked chicken',\n",
       "  'pie crust',\n",
       "  'dried apricot',\n",
       "  'red pepper',\n",
       "  'habanero peppers',\n",
       "  'liquid pectin',\n",
       "  'pastry flour',\n",
       "  'egg yolk',\n",
       "  'ice water',\n",
       "  'potato',\n",
       "  'turmeric',\n",
       "  'kiwi',\n",
       "  'pear',\n",
       "  'navel orange',\n",
       "  'red seedless grapes',\n",
       "  'ginger ale',\n",
       "  'orange zest',\n",
       "  'red cabbage',\n",
       "  'sweet onion',\n",
       "  'chickpeas',\n",
       "  'mcintosh apples',\n",
       "  'butter-flavored cooking spray',\n",
       "  'green chili',\n",
       "  'fat-free monterey jack cheese',\n",
       "  'liquid hot pepper sauce',\n",
       "  'fat free tortillas',\n",
       "  'natural bran',\n",
       "  'chicken breast tenders',\n",
       "  'russet potato',\n",
       "  'bay leaf',\n",
       "  'poultry seasoning',\n",
       "  'biscuit mix',\n",
       "  'frozen green pea',\n",
       "  'white rum',\n",
       "  'dark rum',\n",
       "  'coconut cream',\n",
       "  'double cream',\n",
       "  'angostura bitters',\n",
       "  'maraschino cherry',\n",
       "  'pineapple slice',\n",
       "  'ragu chunky tomato onion & garlic sauce',\n",
       "  'angel hair pasta',\n",
       "  'white shoepeg corn',\n",
       "  'white beans',\n",
       "  'pink lemonade',\n",
       "  'light rum',\n",
       "  'mustard',\n",
       "  'simply potatoes diced potatoes with onion',\n",
       "  'dried ancho chile powder',\n",
       "  'sun-dried tomato',\n",
       "  'frozen salad shrimp',\n",
       "  'garlic cheese rolls',\n",
       "  'english mustard',\n",
       "  'whole meal bread',\n",
       "  'cooked ham',\n",
       "  'watercress',\n",
       "  'imitation crabmeat',\n",
       "  'lettuce leaves',\n",
       "  'croissants',\n",
       "  'steaks',\n",
       "  'fresh coarse ground black pepper',\n",
       "  'beet',\n",
       "  'canned pumpkin',\n",
       "  'whole wheat flour',\n",
       "  'ground flax seeds',\n",
       "  'melon liqueur',\n",
       "  'unsweetened chocolate',\n",
       "  'ranch dressing',\n",
       "  'hamburger buns',\n",
       "  'hot cocoa mix',\n",
       "  'andes mints candies',\n",
       "  'candy cane',\n",
       "  'spareribs',\n",
       "  'sweetened flaked coconut',\n",
       "  'peach jell-o',\n",
       "  'garbanzo beans',\n",
       "  'mixed spice',\n",
       "  'ground coriander',\n",
       "  'garlic sauce',\n",
       "  'lean ground meat',\n",
       "  'onion soup mix',\n",
       "  'chili sauce',\n",
       "  'semi-sweet chocolate baking squares',\n",
       "  'spices',\n",
       "  'jerusalem artichoke',\n",
       "  'coconut flour',\n",
       "  'canola oil',\n",
       "  'frozen blueberries',\n",
       "  'blueberries',\n",
       "  'baby carrots',\n",
       "  'chopped tomatoes',\n",
       "  'blanched almond',\n",
       "  'spinach linguine',\n",
       "  'oats',\n",
       "  'strawberry syrup',\n",
       "  'vanilla flavoring',\n",
       "  'sherry wine vinegar',\n",
       "  'oregano leaves',\n",
       "  'cotija cheese',\n",
       "  'lime wedge',\n",
       "  'cream of chicken soup',\n",
       "  'seasoned bread crumbs',\n",
       "  'instant minced onion',\n",
       "  'parsnips',\n",
       "  'white chocolate',\n",
       "  'low-fat quark cheese',\n",
       "  'dark chocolate',\n",
       "  'beef stuffing mix',\n",
       "  'mandarin oranges',\n",
       "  'frozen whipped topping',\n",
       "  'instant vanilla pudding',\n",
       "  'lemongrass',\n",
       "  'shallot',\n",
       "  'smart balance butter spread',\n",
       "  'salt and black pepper',\n",
       "  'elbow macaroni',\n",
       "  'lean hamburger',\n",
       "  'spanish onion',\n",
       "  'whole tomatoes',\n",
       "  \"campbell's cheddar cheese soup\",\n",
       "  'red food coloring',\n",
       "  'ground red pepper',\n",
       "  'yellow bell pepper',\n",
       "  'mushrooms',\n",
       "  'courgettes',\n",
       "  'sherry wine',\n",
       "  'tomatoes in puree',\n",
       "  'fresh garlic cloves',\n",
       "  'applesauce',\n",
       "  'asiago cheese',\n",
       "  'scallions',\n",
       "  'large shrimp',\n",
       "  'old bay seasoning',\n",
       "  'panko breadcrumbs',\n",
       "  'brown rice',\n",
       "  'red enchilada sauce',\n",
       "  'green chili peppers',\n",
       "  'low-fat monterey jack cheese',\n",
       "  'hot water',\n",
       "  'mini marshmallows',\n",
       "  'chocolate candy bars',\n",
       "  'swanson chicken broth',\n",
       "  'herb-ox beef flavor cube',\n",
       "  'egg whites',\n",
       "  'cold water',\n",
       "  'dijon mustard',\n",
       "  'acini di pepe pasta',\n",
       "  'spinach leaves',\n",
       "  'feta',\n",
       "  'pork',\n",
       "  'fennel seeds',\n",
       "  'dried chili pepper flakes',\n",
       "  'chicken thighs',\n",
       "  'dry sherry',\n",
       "  'lemon, juice of',\n",
       "  'boneless chicken thighs',\n",
       "  'yellow food coloring',\n",
       "  'fresh tomatoes',\n",
       "  'good seasonings italian salad dressing mix',\n",
       "  'water-packed artichoke hearts',\n",
       "  'chorizo sausage',\n",
       "  'fresh jalapeno',\n",
       "  'pinto beans',\n",
       "  'bread',\n",
       "  'jelly',\n",
       "  'lemons, zest of',\n",
       "  'thai red chili pepper',\n",
       "  'cooked rice',\n",
       "  'thai holy basil',\n",
       "  'cauliflower',\n",
       "  'stilton cheese',\n",
       "  'shrimp',\n",
       "  'steak seasoning',\n",
       "  'lemon, zest of',\n",
       "  'tilapia fillets',\n",
       "  'frozen limeade concentrate',\n",
       "  'tequila',\n",
       "  'pie crusts',\n",
       "  'bourbon',\n",
       "  'vanilla wafers',\n",
       "  'cherry pie filling',\n",
       "  'mussels',\n",
       "  'diced tomatoes',\n",
       "  'cooked linguine',\n",
       "  'crusty bread',\n",
       "  'chorizo sausages',\n",
       "  'dried italian herb seasoning',\n",
       "  'rice',\n",
       "  'cinnamon stick',\n",
       "  'corn kernels',\n",
       "  'queso fresco',\n",
       "  'lime, juice of',\n",
       "  'pineapple chunks',\n",
       "  'frozen cranberries',\n",
       "  'maple extract',\n",
       "  'peppermint patties',\n",
       "  'butter flavor crisco',\n",
       "  'fresh mushrooms',\n",
       "  'cornbread stuffing mix',\n",
       "  'celery leaves',\n",
       "  'white potatoes',\n",
       "  'gruyere cheese',\n",
       "  'canned tomatoes',\n",
       "  'boiled potatoes',\n",
       "  'plain sweet biscuits',\n",
       "  'icing sugar',\n",
       "  'strawberry jelly crystals',\n",
       "  'strawberries',\n",
       "  'white bread',\n",
       "  'raspberry jam',\n",
       "  'muenster cheese',\n",
       "  'chardonnay wine',\n",
       "  'romano cheese',\n",
       "  'oatmeal',\n",
       "  'ground pork',\n",
       "  'ground pepper',\n",
       "  'white onions',\n",
       "  'meat ravioli',\n",
       "  'prosciutto',\n",
       "  'fresh sage',\n",
       "  'roma tomatoes',\n",
       "  'yukon gold potatoes',\n",
       "  'hard-cooked eggs',\n",
       "  'celery rib',\n",
       "  'nonfat plain yogurt',\n",
       "  'all-bran cereal',\n",
       "  'splenda sugar substitute',\n",
       "  'sparerib racks',\n",
       "  'hoisin sauce',\n",
       "  'egg noodles',\n",
       "  'frozen broccoli florets',\n",
       "  'cooked chicken breasts',\n",
       "  'slivered almonds',\n",
       "  'cooked spaghetti',\n",
       "  'dark sesame oil',\n",
       "  'flank steak',\n",
       "  'low sodium soy sauce',\n",
       "  'chili paste with garlic',\n",
       "  'rolls',\n",
       "  'dill pickles',\n",
       "  'nonfat dry milk powder',\n",
       "  'fine sea salt',\n",
       "  'egg white powder',\n",
       "  'accent seasoning',\n",
       "  'peppercorns',\n",
       "  'ground savory',\n",
       "  'vanilla beans',\n",
       "  'pumpkin puree',\n",
       "  'fat free sour cream',\n",
       "  'gala apples',\n",
       "  'sliced almonds',\n",
       "  'new york strip steaks',\n",
       "  'fresh tarragon leaves',\n",
       "  'bisquick baking mix',\n",
       "  'mild salsa',\n",
       "  'kidney bean',\n",
       "  'spaghetti',\n",
       "  'diced tomatoes with sweet onions',\n",
       "  'neufchatel cheese',\n",
       "  'ground sirloin',\n",
       "  'instant vanilla flavor pudding and pie filling',\n",
       "  'rice vinegar',\n",
       "  'hot chili flakes',\n",
       "  'light sour cream',\n",
       "  'condensed cream of chicken soup',\n",
       "  'minced garlic clove',\n",
       "  'yellow cornmeal',\n",
       "  'serrano peppers',\n",
       "  'fresh broccoli florets',\n",
       "  'cauliflower floret',\n",
       "  'mint sprigs',\n",
       "  'club soda',\n",
       "  'bread machine quick-acting active dry yeast',\n",
       "  'dried herbs',\n",
       "  'semolina',\n",
       "  'fresh horseradish',\n",
       "  'lump crabmeat',\n",
       "  'white onion',\n",
       "  'pomegranate juice',\n",
       "  'frozen strawberries',\n",
       "  'nonfat vanilla yogurt',\n",
       "  'fresh green beans',\n",
       "  'toasted sesame seeds',\n",
       "  'dry yeast',\n",
       "  'brown rice flour',\n",
       "  'tapioca flour',\n",
       "  'powdered milk',\n",
       "  'xanthan gum',\n",
       "  'unflavored gelatin',\n",
       "  'louisiana hot sauce',\n",
       "  'chicken wings',\n",
       "  'bleu cheese salad dressing',\n",
       "  'creamy peanut butter',\n",
       "  'strawberry cake mix',\n",
       "  'strawberry preserves',\n",
       "  'shochu',\n",
       "  'prepared sweet-and-sour mix',\n",
       "  'mace',\n",
       "  'cocktail franks',\n",
       "  'cantaloupe',\n",
       "  'boneless lean beef',\n",
       "  'dried mint',\n",
       "  'sweet hungarian paprika',\n",
       "  'hot pepper flakes',\n",
       "  'ground fenugreek',\n",
       "  'tamarind paste',\n",
       "  'walnut pieces',\n",
       "  'water chestnut',\n",
       "  'chili oil',\n",
       "  'minced ginger',\n",
       "  'dark corn syrup',\n",
       "  'apple cider vinegar',\n",
       "  'seasoned croutons',\n",
       "  'unbaked pie shells',\n",
       "  'almonds',\n",
       "  \"mccormick's montreal brand steak seasoning\",\n",
       "  'refined flour',\n",
       "  'instant coffee powder',\n",
       "  'vanilla essence',\n",
       "  'prawns',\n",
       "  'black bean paste',\n",
       "  'chili',\n",
       "  'malt vinegar',\n",
       "  'kahlua',\n",
       "  'coke',\n",
       "  'equal sugar substitute',\n",
       "  '1% low-fat milk',\n",
       "  'au gratin potatoes',\n",
       "  'frozen mixed vegetables',\n",
       "  'vegetarian banana pudding mix',\n",
       "  'crackers',\n",
       "  'jumbo pasta shells',\n",
       "  'rice wine vinegar',\n",
       "  'reduced-fat peanut butter',\n",
       "  'tuna steaks',\n",
       "  'beets',\n",
       "  'dill pickle',\n",
       "  'mochiko sweet rice flour',\n",
       "  'semisweet chocolate morsels',\n",
       "  'dry roasted peanuts',\n",
       "  'firm bananas',\n",
       "  'pie shells',\n",
       "  'red radishes',\n",
       "  'dry crushed red pepper',\n",
       "  'pretzels',\n",
       "  'hidden valley ranch dressing mix',\n",
       "  'seasoning',\n",
       "  'boneless skinless chicken thighs',\n",
       "  'powdered ginger',\n",
       "  'dried onion flakes',\n",
       "  'skim milk',\n",
       "  'plum tomatoes',\n",
       "  'jam',\n",
       "  'strawberry sauce',\n",
       "  'fat-free evaporated milk',\n",
       "  'fresh garlic',\n",
       "  'semisweet mini chocolate chips',\n",
       "  'corn oil',\n",
       "  'unbleached all-purpose flour',\n",
       "  'unrefined sugar',\n",
       "  'pure maple syrup',\n",
       "  'non-dairy chocolate chips',\n",
       "  'chicken base',\n",
       "  'american cheese',\n",
       "  'lemons',\n",
       "  'cloves',\n",
       "  'jar',\n",
       "  'ham',\n",
       "  'kosher dill pickles',\n",
       "  'refrigerated crescent dinner rolls',\n",
       "  'frozen artichoke hearts',\n",
       "  'fudge brownie mix',\n",
       "  'fine dry breadcrumb',\n",
       "  'pineapple tidbits',\n",
       "  'tapioca',\n",
       "  'fresh peaches',\n",
       "  'olives',\n",
       "  'roma',\n",
       "  'fresh chives',\n",
       "  'spaetzle noodles',\n",
       "  'sourdough starter',\n",
       "  'cinnamon applesauce',\n",
       "  'bean with bacon soup',\n",
       "  'fresh mint leaves',\n",
       "  'orange-flavored liqueur',\n",
       "  'mint leaves',\n",
       "  'soft fresh goat cheese',\n",
       "  'meatloaf',\n",
       "  'red-hot candies',\n",
       "  'cooking oil',\n",
       "  'curry paste',\n",
       "  'thai fish sauce',\n",
       "  'bamboo shoot',\n",
       "  'straw mushroom',\n",
       "  'chinese eggplant',\n",
       "  'japanese eggplant',\n",
       "  'unsalted margarine',\n",
       "  'fresh cherries',\n",
       "  'brandy',\n",
       "  'jalapeno peppers',\n",
       "  ...])"
      ]
     },
     "execution_count": 37,
     "metadata": {},
     "output_type": "execute_result"
    }
   ],
   "source": [
    "unique_ing = []\n",
    "for ings in data.ingredients:\n",
    "    for ing in literal_eval(ings):\n",
    "        if ing not in unique_ing:\n",
    "            unique_ing.append(ing)\n",
    "len(unique_ing), unique_ing"
   ]
  },
  {
   "cell_type": "code",
   "execution_count": 38,
   "id": "10d1e6c1",
   "metadata": {
    "execution": {
     "iopub.execute_input": "2022-09-23T07:32:56.287415Z",
     "iopub.status.busy": "2022-09-23T07:32:56.286976Z",
     "iopub.status.idle": "2022-09-23T07:32:56.501668Z",
     "shell.execute_reply": "2022-09-23T07:32:56.500450Z"
    },
    "papermill": {
     "duration": 0.236317,
     "end_time": "2022-09-23T07:32:56.504828",
     "exception": false,
     "start_time": "2022-09-23T07:32:56.268511",
     "status": "completed"
    },
    "tags": []
   },
   "outputs": [],
   "source": [
    "nonveg_ingred = [\n",
    "    \"Chicken\",\n",
    "    \"Beef\",\n",
    "    \"Pork\",\n",
    "    \"Lamb\",\n",
    "    \"Fish\",\n",
    "    \"Shrimp\",\n",
    "    \"Crab\",\n",
    "    \"Lobster\",\n",
    "    \"Mussels\",\n",
    "    \"Clams\",\n",
    "    \"Oysters\",\n",
    "    \"Scallops\",\n",
    "    \"Squid\",\n",
    "    \"Octopus\",\n",
    "    \"Turkey\",\n",
    "    \"Duck\",\n",
    "    \"Goose\",\n",
    "    \"Venison\",\n",
    "    \"Bison\",\n",
    "    \"Rabbit\",\n",
    "    \"Quail\",\n",
    "    \"Pheasant\",\n",
    "    \"Sausage\",\n",
    "    \"Bacon\",\n",
    "    \"Ham\",\n",
    "    \"Salmon\",\n",
    "    \"Tuna\",\n",
    "    \"Trout\",\n",
    "    \"Anchovies\",\n",
    "    \"Sardines\",\n",
    "    \"Cod\",\n",
    "    \"Haddock\",\n",
    "    \"Crabmeat\",\n",
    "    \"Lobster\",\n",
    "    \"Shellfish\",\n",
    "    \"Calamari\",\n",
    "    \"Oysters\",\n",
    "    \"Mussels\",\n",
    "    \"Clams\",\n",
    "    \"Caviar\",\n",
    "    \"Escargot\",\n",
    "    \"Foie Gras\",\n",
    "    \"Liver\",\n",
    "    \"Kidney\",\n",
    "    \"Sweetbreads\",\n",
    "    \"Tripe\",\n",
    "    \"Gelatin\",\n",
    "    \"Bone broth\",\n",
    "    \"Eggs\"\n",
    "]"
   ]
  },
  {
   "cell_type": "code",
   "execution_count": 39,
   "id": "dfbca2db",
   "metadata": {},
   "outputs": [],
   "source": [
    "def ingredient_check(data):\n",
    "    ingreds = literal_eval(data)\n",
    "    typ = \"Veg\"\n",
    "    for x in nonveg_ingred:\n",
    "        for ing in ingreds:\n",
    "            if x.lower() in ing.lower():\n",
    "                typ = \"Non Veg\"\n",
    "                return typ\n",
    "    return typ\n",
    "\n",
    "data[\"Veg/Non\"] = data[\"ingredients\"].apply(ingredient_check)"
   ]
  },
  {
   "cell_type": "code",
   "execution_count": 40,
   "id": "ca33506d",
   "metadata": {},
   "outputs": [],
   "source": [
    "# data = data.drop(['non veg'], axis=1)"
   ]
  },
  {
   "cell_type": "code",
   "execution_count": 41,
   "id": "713b03fc",
   "metadata": {
    "execution": {
     "iopub.execute_input": "2022-09-23T07:32:56.543540Z",
     "iopub.status.busy": "2022-09-23T07:32:56.542335Z",
     "iopub.status.idle": "2022-09-23T07:32:56.550755Z",
     "shell.execute_reply": "2022-09-23T07:32:56.549462Z"
    },
    "papermill": {
     "duration": 0.030133,
     "end_time": "2022-09-23T07:32:56.553153",
     "exception": false,
     "start_time": "2022-09-23T07:32:56.523020",
     "status": "completed"
    },
    "scrolled": true,
    "tags": []
   },
   "outputs": [
    {
     "data": {
      "text/plain": [
       "Index(['user_id', 'recipe_id', 'date', 'rating', 'review', 'name', 'minutes',\n",
       "       'tags', 'nutrition', 'n_steps', 'steps', 'description', 'ingredients',\n",
       "       'n_ingredients', 'calories', 'total fat', 'sugar', 'sodium', 'protein',\n",
       "       'saturated fat', 'carbohydrates', 'Veg/Non'],\n",
       "      dtype='object')"
      ]
     },
     "execution_count": 41,
     "metadata": {},
     "output_type": "execute_result"
    }
   ],
   "source": [
    "data.columns"
   ]
  },
  {
   "cell_type": "code",
   "execution_count": 42,
   "id": "61e27a53",
   "metadata": {
    "execution": {
     "iopub.execute_input": "2022-09-23T07:32:56.589073Z",
     "iopub.status.busy": "2022-09-23T07:32:56.587930Z",
     "iopub.status.idle": "2022-09-23T07:32:56.596653Z",
     "shell.execute_reply": "2022-09-23T07:32:56.595428Z"
    },
    "papermill": {
     "duration": 0.029169,
     "end_time": "2022-09-23T07:32:56.599191",
     "exception": false,
     "start_time": "2022-09-23T07:32:56.570022",
     "status": "completed"
    },
    "tags": []
   },
   "outputs": [
    {
     "data": {
      "text/plain": [
       "<BarContainer object of 2 artists>"
      ]
     },
     "execution_count": 42,
     "metadata": {},
     "output_type": "execute_result"
    },
    {
     "data": {
      "image/png": "[encoded data removed]",
      "text/plain": [
       "<Figure size 640x480 with 1 Axes>"
      ]
     },
     "metadata": {},
     "output_type": "display_data"
    }
   ],
   "source": [
    "data[\"Veg/Non\"].unique()\n",
    "lg = len(data[data[\"Veg/Non\"] == \"Non Veg\"])\n",
    "plt.bar(x=['v', 'n'], height=[lg, len(data)-lg])"
   ]
  },
  {
   "cell_type": "code",
   "execution_count": 43,
   "id": "56a638dd",
   "metadata": {
    "execution": {
     "iopub.execute_input": "2022-09-23T07:32:56.634791Z",
     "iopub.status.busy": "2022-09-23T07:32:56.634298Z",
     "iopub.status.idle": "2022-09-23T07:32:56.642824Z",
     "shell.execute_reply": "2022-09-23T07:32:56.641827Z"
    },
    "papermill": {
     "duration": 0.029173,
     "end_time": "2022-09-23T07:32:56.645231",
     "exception": false,
     "start_time": "2022-09-23T07:32:56.616058",
     "status": "completed"
    },
    "tags": []
   },
   "outputs": [],
   "source": [
    "rec = data.copy()\n",
    "rec = rec[[\"recipe_id\",\"rating\",\"name\",\"tags\",\"description\",\"ingredients\",\"Veg/Non\"]]"
   ]
  },
  {
   "cell_type": "code",
   "execution_count": 44,
   "id": "2cda39a5",
   "metadata": {
    "execution": {
     "iopub.execute_input": "2022-09-23T07:32:56.681026Z",
     "iopub.status.busy": "2022-09-23T07:32:56.680577Z",
     "iopub.status.idle": "2022-09-23T07:32:56.701360Z",
     "shell.execute_reply": "2022-09-23T07:32:56.700279Z"
    },
    "papermill": {
     "duration": 0.042018,
     "end_time": "2022-09-23T07:32:56.704149",
     "exception": false,
     "start_time": "2022-09-23T07:32:56.662131",
     "status": "completed"
    },
    "tags": []
   },
   "outputs": [],
   "source": [
    "rate = rec.groupby(\"name\")[\"rating\"].mean().reset_index()"
   ]
  },
  {
   "cell_type": "code",
   "execution_count": 45,
   "id": "096749a8",
   "metadata": {
    "scrolled": true
   },
   "outputs": [
    {
     "data": {
      "text/html": [
       "<div>\n",
       "<style scoped>\n",
       "    .dataframe tbody tr th:only-of-type {\n",
       "        vertical-align: middle;\n",
       "    }\n",
       "\n",
       "    .dataframe tbody tr th {\n",
       "        vertical-align: top;\n",
       "    }\n",
       "\n",
       "    .dataframe thead th {\n",
       "        text-align: right;\n",
       "    }\n",
       "</style>\n",
       "<table border=\"1\" class=\"dataframe\">\n",
       "  <thead>\n",
       "    <tr style=\"text-align: right;\">\n",
       "      <th></th>\n",
       "      <th>name</th>\n",
       "      <th>rating</th>\n",
       "    </tr>\n",
       "  </thead>\n",
       "  <tbody>\n",
       "    <tr>\n",
       "      <th>0</th>\n",
       "      <td>1 000 artichoke hearts</td>\n",
       "      <td>5.000000</td>\n",
       "    </tr>\n",
       "    <tr>\n",
       "      <th>1</th>\n",
       "      <td>1 2 3 4 tater tot casserole</td>\n",
       "      <td>4.500000</td>\n",
       "    </tr>\n",
       "    <tr>\n",
       "      <th>2</th>\n",
       "      <td>1 2 cup soup</td>\n",
       "      <td>5.000000</td>\n",
       "    </tr>\n",
       "    <tr>\n",
       "      <th>3</th>\n",
       "      <td>1 hour ham and bean soup</td>\n",
       "      <td>4.000000</td>\n",
       "    </tr>\n",
       "    <tr>\n",
       "      <th>4</th>\n",
       "      <td>1 pan fudge cake</td>\n",
       "      <td>4.666667</td>\n",
       "    </tr>\n",
       "    <tr>\n",
       "      <th>...</th>\n",
       "      <td>...</td>\n",
       "      <td>...</td>\n",
       "    </tr>\n",
       "    <tr>\n",
       "      <th>6195</th>\n",
       "      <td>zucchini jack casserole</td>\n",
       "      <td>5.000000</td>\n",
       "    </tr>\n",
       "    <tr>\n",
       "      <th>6196</th>\n",
       "      <td>zucchini kugel</td>\n",
       "      <td>4.000000</td>\n",
       "    </tr>\n",
       "    <tr>\n",
       "      <th>6197</th>\n",
       "      <td>zucchini meat loaf</td>\n",
       "      <td>5.000000</td>\n",
       "    </tr>\n",
       "    <tr>\n",
       "      <th>6198</th>\n",
       "      <td>zucchini salsa canned</td>\n",
       "      <td>5.000000</td>\n",
       "    </tr>\n",
       "    <tr>\n",
       "      <th>6199</th>\n",
       "      <td>zucchini stuffing</td>\n",
       "      <td>5.000000</td>\n",
       "    </tr>\n",
       "  </tbody>\n",
       "</table>\n",
       "<p>6200 rows × 2 columns</p>\n",
       "</div>"
      ],
      "text/plain": [
       "                             name    rating\n",
       "0          1 000 artichoke hearts  5.000000\n",
       "1     1 2 3 4 tater tot casserole  4.500000\n",
       "2                    1 2 cup soup  5.000000\n",
       "3        1 hour ham and bean soup  4.000000\n",
       "4                1 pan fudge cake  4.666667\n",
       "...                           ...       ...\n",
       "6195      zucchini jack casserole  5.000000\n",
       "6196               zucchini kugel  4.000000\n",
       "6197           zucchini meat loaf  5.000000\n",
       "6198        zucchini salsa canned  5.000000\n",
       "6199            zucchini stuffing  5.000000\n",
       "\n",
       "[6200 rows x 2 columns]"
      ]
     },
     "execution_count": 45,
     "metadata": {},
     "output_type": "execute_result"
    }
   ],
   "source": [
    "rate"
   ]
  },
  {
   "cell_type": "code",
   "execution_count": 46,
   "id": "0c5d258d",
   "metadata": {},
   "outputs": [],
   "source": [
    "rate.to_csv('data/Mean_rating.csv')"
   ]
  },
  {
   "cell_type": "code",
   "execution_count": 47,
   "id": "80055914",
   "metadata": {
    "execution": {
     "iopub.execute_input": "2022-09-23T07:32:56.741586Z",
     "iopub.status.busy": "2022-09-23T07:32:56.740946Z",
     "iopub.status.idle": "2022-09-23T07:32:57.382863Z",
     "shell.execute_reply": "2022-09-23T07:32:57.381317Z"
    },
    "papermill": {
     "duration": 0.664552,
     "end_time": "2022-09-23T07:32:57.385764",
     "exception": false,
     "start_time": "2022-09-23T07:32:56.721212",
     "status": "completed"
    },
    "tags": []
   },
   "outputs": [],
   "source": [
    "import nltk"
   ]
  },
  {
   "cell_type": "code",
   "execution_count": 48,
   "id": "036ca141",
   "metadata": {
    "execution": {
     "iopub.execute_input": "2022-09-23T07:32:57.421575Z",
     "iopub.status.busy": "2022-09-23T07:32:57.421135Z",
     "iopub.status.idle": "2022-09-23T07:32:57.487164Z",
     "shell.execute_reply": "2022-09-23T07:32:57.485783Z"
    },
    "papermill": {
     "duration": 0.087455,
     "end_time": "2022-09-23T07:32:57.490250",
     "exception": false,
     "start_time": "2022-09-23T07:32:57.402795",
     "status": "completed"
    },
    "tags": []
   },
   "outputs": [
    {
     "data": {
      "text/plain": [
       "1951"
      ]
     },
     "execution_count": 48,
     "metadata": {},
     "output_type": "execute_result"
    }
   ],
   "source": [
    "rec.duplicated().sum()"
   ]
  },
  {
   "cell_type": "code",
   "execution_count": 49,
   "id": "d0cf6086",
   "metadata": {},
   "outputs": [],
   "source": [
    "rec.drop_duplicates(inplace=True)"
   ]
  },
  {
   "cell_type": "code",
   "execution_count": 50,
   "id": "faec12cf",
   "metadata": {
    "execution": {
     "iopub.execute_input": "2022-09-23T07:32:57.526697Z",
     "iopub.status.busy": "2022-09-23T07:32:57.525601Z",
     "iopub.status.idle": "2022-09-23T07:32:57.531304Z",
     "shell.execute_reply": "2022-09-23T07:32:57.530281Z"
    },
    "papermill": {
     "duration": 0.026296,
     "end_time": "2022-09-23T07:32:57.533674",
     "exception": false,
     "start_time": "2022-09-23T07:32:57.507378",
     "status": "completed"
    },
    "tags": []
   },
   "outputs": [],
   "source": [
    "rec.reset_index(drop=True,inplace=True)"
   ]
  },
  {
   "cell_type": "code",
   "execution_count": 51,
   "id": "efc8980e",
   "metadata": {},
   "outputs": [
    {
     "data": {
      "text/html": [
       "<div>\n",
       "<style scoped>\n",
       "    .dataframe tbody tr th:only-of-type {\n",
       "        vertical-align: middle;\n",
       "    }\n",
       "\n",
       "    .dataframe tbody tr th {\n",
       "        vertical-align: top;\n",
       "    }\n",
       "\n",
       "    .dataframe thead th {\n",
       "        text-align: right;\n",
       "    }\n",
       "</style>\n",
       "<table border=\"1\" class=\"dataframe\">\n",
       "  <thead>\n",
       "    <tr style=\"text-align: right;\">\n",
       "      <th></th>\n",
       "      <th>recipe_id</th>\n",
       "      <th>rating</th>\n",
       "      <th>name</th>\n",
       "      <th>tags</th>\n",
       "      <th>description</th>\n",
       "      <th>ingredients</th>\n",
       "      <th>Veg/Non</th>\n",
       "    </tr>\n",
       "  </thead>\n",
       "  <tbody>\n",
       "    <tr>\n",
       "      <th>0</th>\n",
       "      <td>374887</td>\n",
       "      <td>5</td>\n",
       "      <td>rotel corn</td>\n",
       "      <td>['60-minutes-or-less', 'time-to-make', 'course...</td>\n",
       "      <td>this recipe comes from a friend of mine. i had...</td>\n",
       "      <td>['corn', 'cream cheese', 'rotel tomatoes &amp; chi...</td>\n",
       "      <td>Veg</td>\n",
       "    </tr>\n",
       "  </tbody>\n",
       "</table>\n",
       "</div>"
      ],
      "text/plain": [
       "   recipe_id  rating        name  \\\n",
       "0     374887       5  rotel corn   \n",
       "\n",
       "                                                tags  \\\n",
       "0  ['60-minutes-or-less', 'time-to-make', 'course...   \n",
       "\n",
       "                                         description  \\\n",
       "0  this recipe comes from a friend of mine. i had...   \n",
       "\n",
       "                                         ingredients Veg/Non  \n",
       "0  ['corn', 'cream cheese', 'rotel tomatoes & chi...     Veg  "
      ]
     },
     "execution_count": 51,
     "metadata": {},
     "output_type": "execute_result"
    }
   ],
   "source": [
    "rec.head(1)"
   ]
  },
  {
   "cell_type": "code",
   "execution_count": 52,
   "id": "049b5c75",
   "metadata": {
    "execution": {
     "iopub.execute_input": "2022-09-23T07:32:57.570065Z",
     "iopub.status.busy": "2022-09-23T07:32:57.569623Z",
     "iopub.status.idle": "2022-09-23T07:32:57.581664Z",
     "shell.execute_reply": "2022-09-23T07:32:57.580665Z"
    },
    "papermill": {
     "duration": 0.033089,
     "end_time": "2022-09-23T07:32:57.583912",
     "exception": false,
     "start_time": "2022-09-23T07:32:57.550823",
     "status": "completed"
    },
    "scrolled": false,
    "tags": []
   },
   "outputs": [
    {
     "data": {
      "text/plain": [
       "\"['60-minutes-or-less', 'time-to-make', 'course', 'main-ingredient', 'preparation', 'occasion', '5-ingredients-or-less', 'side-dishes', 'vegetables', 'easy', 'dietary', 'spicy', 'low-sodium', 'low-in-something', 'corn', 'tomatoes', 'taste-mood']\""
      ]
     },
     "execution_count": 52,
     "metadata": {},
     "output_type": "execute_result"
    }
   ],
   "source": [
    "rec.iloc[0]['tags']"
   ]
  },
  {
   "cell_type": "code",
   "execution_count": 53,
   "id": "68a34486",
   "metadata": {},
   "outputs": [
    {
     "data": {
      "text/plain": [
       "\"['corn', 'cream cheese', 'rotel tomatoes & chilies', 'butter', 'salt and pepper']\""
      ]
     },
     "execution_count": 53,
     "metadata": {},
     "output_type": "execute_result"
    }
   ],
   "source": [
    "rec.iloc[0]['ingredients']"
   ]
  },
  {
   "cell_type": "code",
   "execution_count": 54,
   "id": "086fe150",
   "metadata": {},
   "outputs": [
    {
     "data": {
      "text/plain": [
       "(6923, 7)"
      ]
     },
     "execution_count": 54,
     "metadata": {},
     "output_type": "execute_result"
    }
   ],
   "source": [
    "rec.shape"
   ]
  },
  {
   "cell_type": "code",
   "execution_count": 55,
   "id": "8faeb7aa",
   "metadata": {
    "execution": {
     "iopub.execute_input": "2022-09-23T07:32:57.620812Z",
     "iopub.status.busy": "2022-09-23T07:32:57.619457Z",
     "iopub.status.idle": "2022-09-23T07:32:57.626408Z",
     "shell.execute_reply": "2022-09-23T07:32:57.625021Z"
    },
    "papermill": {
     "duration": 0.028762,
     "end_time": "2022-09-23T07:32:57.629716",
     "exception": false,
     "start_time": "2022-09-23T07:32:57.600954",
     "status": "completed"
    },
    "tags": []
   },
   "outputs": [],
   "source": [
    "import string\n",
    "\n",
    "def convert_to_list(data):\n",
    "    a = data.replace(\"-\",\" \").replace(\"[\",\"\").replace(\"]\",\"\")\n",
    "#     a = ''.join([i for i in a if not i.isdigit()])\n",
    "    a = a.translate(str.maketrans('', '', string.punctuation))\n",
    "    return a"
   ]
  },
  {
   "cell_type": "code",
   "execution_count": 56,
   "id": "ccd55fd8",
   "metadata": {
    "execution": {
     "iopub.execute_input": "2022-09-23T07:32:57.666708Z",
     "iopub.status.busy": "2022-09-23T07:32:57.666189Z",
     "iopub.status.idle": "2022-09-23T07:32:57.863901Z",
     "shell.execute_reply": "2022-09-23T07:32:57.862373Z"
    },
    "papermill": {
     "duration": 0.220289,
     "end_time": "2022-09-23T07:32:57.867140",
     "exception": false,
     "start_time": "2022-09-23T07:32:57.646851",
     "status": "completed"
    },
    "tags": []
   },
   "outputs": [],
   "source": [
    "rec[\"tags\"] = rec[\"tags\"].apply(lambda x: convert_to_list(x))\n",
    "rec[\"ingredients\"] = rec[\"ingredients\"].apply(lambda x: convert_to_list(x))\n",
    "rec[\"description\"] = rec[\"description\"].apply(lambda x: convert_to_list(x))"
   ]
  },
  {
   "cell_type": "code",
   "execution_count": 57,
   "id": "88b7dd88",
   "metadata": {
    "execution": {
     "iopub.execute_input": "2022-09-23T07:32:57.904326Z",
     "iopub.status.busy": "2022-09-23T07:32:57.903888Z",
     "iopub.status.idle": "2022-09-23T07:32:57.931597Z",
     "shell.execute_reply": "2022-09-23T07:32:57.930267Z"
    },
    "papermill": {
     "duration": 0.050347,
     "end_time": "2022-09-23T07:32:57.934441",
     "exception": false,
     "start_time": "2022-09-23T07:32:57.884094",
     "status": "completed"
    },
    "tags": []
   },
   "outputs": [],
   "source": [
    "rec[\"soup\"] = rec[\"tags\"] + rec[\"description\"] + rec[\"ingredients\"] + rec[\"Veg/Non\"]\n",
    "rec = rec[~rec.duplicated(\"name\")]\n",
    "rec.reset_index(drop=True,inplace=True)"
   ]
  },
  {
   "cell_type": "code",
   "execution_count": 58,
   "id": "b46c88a4",
   "metadata": {
    "execution": {
     "iopub.execute_input": "2022-09-23T07:32:57.971432Z",
     "iopub.status.busy": "2022-09-23T07:32:57.970984Z",
     "iopub.status.idle": "2022-09-23T07:32:58.131122Z",
     "shell.execute_reply": "2022-09-23T07:32:58.129336Z"
    },
    "papermill": {
     "duration": 0.182174,
     "end_time": "2022-09-23T07:32:58.133881",
     "exception": false,
     "start_time": "2022-09-23T07:32:57.951707",
     "status": "completed"
    },
    "tags": []
   },
   "outputs": [
    {
     "data": {
      "text/plain": [
       "(6200, 8)"
      ]
     },
     "execution_count": 58,
     "metadata": {},
     "output_type": "execute_result"
    }
   ],
   "source": [
    "rec.shape\n",
    "# rec.to_csv(\"food.csv\")"
   ]
  },
  {
   "cell_type": "code",
   "execution_count": 59,
   "id": "5278aeeb",
   "metadata": {
    "execution": {
     "iopub.execute_input": "2022-09-23T07:32:58.170678Z",
     "iopub.status.busy": "2022-09-23T07:32:58.170119Z",
     "iopub.status.idle": "2022-09-23T07:33:03.206486Z",
     "shell.execute_reply": "2022-09-23T07:33:03.205027Z"
    },
    "papermill": {
     "duration": 5.058109,
     "end_time": "2022-09-23T07:33:03.209260",
     "exception": false,
     "start_time": "2022-09-23T07:32:58.151151",
     "status": "completed"
    },
    "tags": []
   },
   "outputs": [],
   "source": [
    "cv = TfidfVectorizer()\n",
    "rec_tfidf = cv.fit_transform(rec[\"soup\"])\n",
    "name_tfidf = cv.fit_transform(rec[\"name\"])\n",
    "rec_consin_sim = linear_kernel(rec_tfidf,rec_tfidf)\n",
    "name_consin_sim = linear_kernel(name_tfidf,name_tfidf)"
   ]
  },
  {
   "cell_type": "code",
   "execution_count": 60,
   "id": "159c47c9",
   "metadata": {
    "scrolled": true
   },
   "outputs": [
    {
     "data": {
      "text/plain": [
       "((6200, 6200), (6200, 6200))"
      ]
     },
     "execution_count": 60,
     "metadata": {},
     "output_type": "execute_result"
    }
   ],
   "source": [
    "rec_consin_sim.shape, name_consin_sim.shape"
   ]
  },
  {
   "cell_type": "code",
   "execution_count": 61,
   "id": "7bc3f762",
   "metadata": {},
   "outputs": [],
   "source": [
    "# rec = rec.reset_index()"
   ]
  },
  {
   "cell_type": "code",
   "execution_count": 62,
   "id": "daba53e4",
   "metadata": {},
   "outputs": [
    {
     "data": {
      "text/plain": [
       "6200"
      ]
     },
     "execution_count": 62,
     "metadata": {},
     "output_type": "execute_result"
    }
   ],
   "source": [
    "len(rec.name.unique())"
   ]
  },
  {
   "cell_type": "code",
   "execution_count": 63,
   "id": "829b5244",
   "metadata": {
    "scrolled": true
   },
   "outputs": [
    {
     "data": {
      "text/html": [
       "<div>\n",
       "<style scoped>\n",
       "    .dataframe tbody tr th:only-of-type {\n",
       "        vertical-align: middle;\n",
       "    }\n",
       "\n",
       "    .dataframe tbody tr th {\n",
       "        vertical-align: top;\n",
       "    }\n",
       "\n",
       "    .dataframe thead th {\n",
       "        text-align: right;\n",
       "    }\n",
       "</style>\n",
       "<table border=\"1\" class=\"dataframe\">\n",
       "  <thead>\n",
       "    <tr style=\"text-align: right;\">\n",
       "      <th></th>\n",
       "      <th>recipe_id</th>\n",
       "      <th>index</th>\n",
       "    </tr>\n",
       "    <tr>\n",
       "      <th>name</th>\n",
       "      <th></th>\n",
       "      <th></th>\n",
       "    </tr>\n",
       "  </thead>\n",
       "  <tbody>\n",
       "    <tr>\n",
       "      <th>rotel corn</th>\n",
       "      <td>374887</td>\n",
       "      <td>0</td>\n",
       "    </tr>\n",
       "    <tr>\n",
       "      <th>easy key lime pie</th>\n",
       "      <td>147703</td>\n",
       "      <td>1</td>\n",
       "    </tr>\n",
       "    <tr>\n",
       "      <th>no bake chocolate oatmeal cookies gluten free</th>\n",
       "      <td>228152</td>\n",
       "      <td>2</td>\n",
       "    </tr>\n",
       "    <tr>\n",
       "      <th>grilled cajun chicken</th>\n",
       "      <td>248669</td>\n",
       "      <td>3</td>\n",
       "    </tr>\n",
       "    <tr>\n",
       "      <th>soy sauce substitute with very low sodium</th>\n",
       "      <td>295264</td>\n",
       "      <td>4</td>\n",
       "    </tr>\n",
       "    <tr>\n",
       "      <th>...</th>\n",
       "      <td>...</td>\n",
       "      <td>...</td>\n",
       "    </tr>\n",
       "    <tr>\n",
       "      <th>summer garden bread salad</th>\n",
       "      <td>94301</td>\n",
       "      <td>6195</td>\n",
       "    </tr>\n",
       "    <tr>\n",
       "      <th>meatloaf sandwiches</th>\n",
       "      <td>395800</td>\n",
       "      <td>6196</td>\n",
       "    </tr>\n",
       "    <tr>\n",
       "      <th>quick easy and yummy fruit salad</th>\n",
       "      <td>266722</td>\n",
       "      <td>6197</td>\n",
       "    </tr>\n",
       "    <tr>\n",
       "      <th>chocolate dipped peanut butter cracker sandwiches</th>\n",
       "      <td>274173</td>\n",
       "      <td>6198</td>\n",
       "    </tr>\n",
       "    <tr>\n",
       "      <th>cheeseburger po boy</th>\n",
       "      <td>145417</td>\n",
       "      <td>6199</td>\n",
       "    </tr>\n",
       "  </tbody>\n",
       "</table>\n",
       "<p>6200 rows × 2 columns</p>\n",
       "</div>"
      ],
      "text/plain": [
       "                                                   recipe_id  index\n",
       "name                                                               \n",
       "rotel corn                                            374887      0\n",
       "easy key lime pie                                     147703      1\n",
       "no bake chocolate oatmeal cookies gluten free         228152      2\n",
       "grilled cajun chicken                                 248669      3\n",
       "soy sauce substitute with very low sodium             295264      4\n",
       "...                                                      ...    ...\n",
       "summer garden bread salad                              94301   6195\n",
       "meatloaf sandwiches                                   395800   6196\n",
       "quick easy and yummy fruit salad                      266722   6197\n",
       "chocolate dipped peanut butter cracker sandwiches     274173   6198\n",
       "cheeseburger po boy                                   145417   6199\n",
       "\n",
       "[6200 rows x 2 columns]"
      ]
     },
     "execution_count": 63,
     "metadata": {},
     "output_type": "execute_result"
    }
   ],
   "source": [
    "indices = rec[['name', 'recipe_id']]\n",
    "indices = indices.set_index('name')\n",
    "indices['index'] = np.arange(len(indices))\n",
    "indices"
   ]
  },
  {
   "cell_type": "code",
   "execution_count": 64,
   "id": "65ae9f89",
   "metadata": {},
   "outputs": [
    {
     "data": {
      "text/plain": [
       "(6200, 2)"
      ]
     },
     "execution_count": 64,
     "metadata": {},
     "output_type": "execute_result"
    }
   ],
   "source": [
    "indices.shape"
   ]
  },
  {
   "cell_type": "code",
   "execution_count": 65,
   "id": "9ea5479f",
   "metadata": {
    "execution": {
     "iopub.execute_input": "2022-09-23T07:33:03.246598Z",
     "iopub.status.busy": "2022-09-23T07:33:03.246113Z",
     "iopub.status.idle": "2022-09-23T07:33:03.255372Z",
     "shell.execute_reply": "2022-09-23T07:33:03.254108Z"
    },
    "papermill": {
     "duration": 0.030706,
     "end_time": "2022-09-23T07:33:03.257956",
     "exception": false,
     "start_time": "2022-09-23T07:33:03.227250",
     "status": "completed"
    },
    "tags": []
   },
   "outputs": [],
   "source": [
    "# indices = pd.Series(rec.index,index=rec['name'])\n",
    "\n",
    "def recommendation(data,sim):\n",
    "    re_li = []\n",
    "    df = pd.DataFrame([])\n",
    "    ind = indices[indices.index == data]['index'][0]\n",
    "    print(ind)\n",
    "    sim_score = list(enumerate(sim[ind]))\n",
    "    sim_score = sorted(sim_score,key=lambda x:x[1],reverse=True)\n",
    "    sim_score = sim_score[0:10]\n",
    "#     print(sim_score)\n",
    "    rec_indices = [i[0] for i in sim_score]\n",
    "#     print(rec_indices)\n",
    "    for i in rec_indices:\n",
    "        re_li.append(rec.iloc[i][\"name\"])\n",
    "        \n",
    "    return re_li\n",
    "\n",
    "# recommendation(\"potatoes oh  brian\")"
   ]
  },
  {
   "cell_type": "code",
   "execution_count": 66,
   "id": "dfe4be93",
   "metadata": {},
   "outputs": [
    {
     "data": {
      "text/plain": [
       "'rotel corn'"
      ]
     },
     "execution_count": 66,
     "metadata": {},
     "output_type": "execute_result"
    }
   ],
   "source": [
    "rec[:1][\"name\"][0]"
   ]
  },
  {
   "cell_type": "code",
   "execution_count": 67,
   "id": "85c99af9",
   "metadata": {
    "execution": {
     "iopub.execute_input": "2022-09-23T07:33:03.295010Z",
     "iopub.status.busy": "2022-09-23T07:33:03.294431Z",
     "iopub.status.idle": "2022-09-23T07:33:03.310349Z",
     "shell.execute_reply": "2022-09-23T07:33:03.309346Z"
    },
    "papermill": {
     "duration": 0.037446,
     "end_time": "2022-09-23T07:33:03.312672",
     "exception": false,
     "start_time": "2022-09-23T07:33:03.275226",
     "status": "completed"
    },
    "tags": []
   },
   "outputs": [
    {
     "name": "stdout",
     "output_type": "stream",
     "text": [
      "0\n"
     ]
    },
    {
     "data": {
      "text/plain": [
       "['rotel corn',\n",
       " 'sausage rotel dip',\n",
       " 'caramel corn',\n",
       " 'baked corn casserole',\n",
       " 'honey corn bread',\n",
       " 'mexican corn soup',\n",
       " 'pumpkin corn muffins',\n",
       " 'creamy corn bake',\n",
       " 'delicious corn muffins',\n",
       " 'shrimp  corn chowder']"
      ]
     },
     "execution_count": 67,
     "metadata": {},
     "output_type": "execute_result"
    }
   ],
   "source": [
    "# Recommendation based on name\n",
    "\n",
    "recommendation('rotel corn',name_consin_sim)"
   ]
  },
  {
   "cell_type": "code",
   "execution_count": 70,
   "id": "24cf83da",
   "metadata": {
    "execution": {
     "iopub.execute_input": "2022-09-23T07:33:03.349902Z",
     "iopub.status.busy": "2022-09-23T07:33:03.349453Z",
     "iopub.status.idle": "2022-09-23T07:33:03.364833Z",
     "shell.execute_reply": "2022-09-23T07:33:03.363628Z"
    },
    "papermill": {
     "duration": 0.037494,
     "end_time": "2022-09-23T07:33:03.367688",
     "exception": false,
     "start_time": "2022-09-23T07:33:03.330194",
     "status": "completed"
    },
    "tags": []
   },
   "outputs": [
    {
     "name": "stdout",
     "output_type": "stream",
     "text": [
      "0\n"
     ]
    },
    {
     "data": {
      "text/plain": [
       "['rotel corn',\n",
       " 'sweet poached corn',\n",
       " 'chicken bacon and corn chowder',\n",
       " 'bbq cob of corn with pepper',\n",
       " 'signe s salsa',\n",
       " 'mexican meat pie',\n",
       " 'corn chowder with chipotle',\n",
       " 'sausage ro tel party dip',\n",
       " 'garden fresh corn',\n",
       " 'chicken enchiladas suiza']"
      ]
     },
     "execution_count": 70,
     "metadata": {},
     "output_type": "execute_result"
    }
   ],
   "source": [
    "# Recommendation based on tags, description, ingredients\n",
    "\n",
    "recommendation('rotel corn',rec_consin_sim)"
   ]
  },
  {
   "cell_type": "code",
   "execution_count": 74,
   "id": "1c0d5d50",
   "metadata": {},
   "outputs": [],
   "source": [
    "rec.to_csv('data/rec.csv')\n",
    "indices.to_csv('data/indices.csv')\n",
    "data.to_csv('data/data.csv')"
   ]
  },
  {
   "cell_type": "code",
   "execution_count": 75,
   "id": "e40dfe76",
   "metadata": {},
   "outputs": [],
   "source": [
    "np.save('data/rec_consin_sim', rec_consin_sim)\n",
    "np.save('data/name_consin_sim', name_consin_sim)"
   ]
  },
  {
   "cell_type": "code",
   "execution_count": 76,
   "id": "bfdaea4f",
   "metadata": {},
   "outputs": [
    {
     "data": {
      "text/plain": [
       "((6200, 8), (8874, 22))"
      ]
     },
     "execution_count": 76,
     "metadata": {},
     "output_type": "execute_result"
    }
   ],
   "source": [
    "rec.shape, data.shape"
   ]
  },
  {
   "cell_type": "code",
   "execution_count": null,
   "id": "893aa270",
   "metadata": {},
   "outputs": [],
   "source": []
  },
  {
   "cell_type": "code",
   "execution_count": 77,
   "id": "bb02d786",
   "metadata": {},
   "outputs": [
    {
     "data": {
      "text/plain": [
       "(8874, 22)"
      ]
     },
     "execution_count": 77,
     "metadata": {},
     "output_type": "execute_result"
    }
   ],
   "source": [
    "data.shape"
   ]
  },
  {
   "cell_type": "code",
   "execution_count": 78,
   "id": "7f484e79",
   "metadata": {},
   "outputs": [],
   "source": [
    "rating = data.copy()\n",
    "rating['recipe'] = rating.groupby('name')['recipe_id'].transform('min')"
   ]
  },
  {
   "cell_type": "code",
   "execution_count": 79,
   "id": "00172339",
   "metadata": {},
   "outputs": [],
   "source": [
    "# rating = rating.drop_duplicates(subset=['name','recipe_id'])"
   ]
  },
  {
   "cell_type": "code",
   "execution_count": 80,
   "id": "b0f85eea",
   "metadata": {},
   "outputs": [
    {
     "data": {
      "text/html": [
       "<div>\n",
       "<style scoped>\n",
       "    .dataframe tbody tr th:only-of-type {\n",
       "        vertical-align: middle;\n",
       "    }\n",
       "\n",
       "    .dataframe tbody tr th {\n",
       "        vertical-align: top;\n",
       "    }\n",
       "\n",
       "    .dataframe thead th {\n",
       "        text-align: right;\n",
       "    }\n",
       "</style>\n",
       "<table border=\"1\" class=\"dataframe\">\n",
       "  <thead>\n",
       "    <tr style=\"text-align: right;\">\n",
       "      <th></th>\n",
       "      <th>user_id</th>\n",
       "      <th>recipe_id</th>\n",
       "      <th>date</th>\n",
       "      <th>rating</th>\n",
       "      <th>review</th>\n",
       "      <th>name</th>\n",
       "      <th>minutes</th>\n",
       "      <th>tags</th>\n",
       "      <th>nutrition</th>\n",
       "      <th>n_steps</th>\n",
       "      <th>...</th>\n",
       "      <th>n_ingredients</th>\n",
       "      <th>calories</th>\n",
       "      <th>total fat</th>\n",
       "      <th>sugar</th>\n",
       "      <th>sodium</th>\n",
       "      <th>protein</th>\n",
       "      <th>saturated fat</th>\n",
       "      <th>carbohydrates</th>\n",
       "      <th>Veg/Non</th>\n",
       "      <th>recipe</th>\n",
       "    </tr>\n",
       "  </thead>\n",
       "  <tbody>\n",
       "    <tr>\n",
       "      <th>1</th>\n",
       "      <td>2567666</td>\n",
       "      <td>374887</td>\n",
       "      <td>2013-02-18</td>\n",
       "      <td>5</td>\n",
       "      <td>Excellent! My 11 year old daughter, who is bec...</td>\n",
       "      <td>rotel corn</td>\n",
       "      <td>40</td>\n",
       "      <td>['60-minutes-or-less', 'time-to-make', 'course...</td>\n",
       "      <td>[330.2, 27.0, 20.0, 12.0, 15.0, 50.0, 14.0]</td>\n",
       "      <td>5</td>\n",
       "      <td>...</td>\n",
       "      <td>5</td>\n",
       "      <td>330.2</td>\n",
       "      <td>27.0</td>\n",
       "      <td>20.0</td>\n",
       "      <td>12.0</td>\n",
       "      <td>15.0</td>\n",
       "      <td>50.0</td>\n",
       "      <td>14.0</td>\n",
       "      <td>Veg</td>\n",
       "      <td>374887</td>\n",
       "    </tr>\n",
       "    <tr>\n",
       "      <th>2</th>\n",
       "      <td>356127</td>\n",
       "      <td>147703</td>\n",
       "      <td>2006-10-10</td>\n",
       "      <td>5</td>\n",
       "      <td>Fantastic pie-wish I could give it more than 5...</td>\n",
       "      <td>easy key lime pie</td>\n",
       "      <td>10</td>\n",
       "      <td>['15-minutes-or-less', 'time-to-make', 'course...</td>\n",
       "      <td>[470.4, 48.0, 133.0, 13.0, 9.0, 91.0, 14.0]</td>\n",
       "      <td>5</td>\n",
       "      <td>...</td>\n",
       "      <td>5</td>\n",
       "      <td>470.4</td>\n",
       "      <td>48.0</td>\n",
       "      <td>133.0</td>\n",
       "      <td>13.0</td>\n",
       "      <td>9.0</td>\n",
       "      <td>91.0</td>\n",
       "      <td>14.0</td>\n",
       "      <td>Non Veg</td>\n",
       "      <td>147703</td>\n",
       "    </tr>\n",
       "  </tbody>\n",
       "</table>\n",
       "<p>2 rows × 23 columns</p>\n",
       "</div>"
      ],
      "text/plain": [
       "   user_id  recipe_id        date  rating  \\\n",
       "1  2567666     374887  2013-02-18       5   \n",
       "2   356127     147703  2006-10-10       5   \n",
       "\n",
       "                                              review               name  \\\n",
       "1  Excellent! My 11 year old daughter, who is bec...         rotel corn   \n",
       "2  Fantastic pie-wish I could give it more than 5...  easy key lime pie   \n",
       "\n",
       "   minutes                                               tags  \\\n",
       "1       40  ['60-minutes-or-less', 'time-to-make', 'course...   \n",
       "2       10  ['15-minutes-or-less', 'time-to-make', 'course...   \n",
       "\n",
       "                                     nutrition  n_steps  ... n_ingredients  \\\n",
       "1  [330.2, 27.0, 20.0, 12.0, 15.0, 50.0, 14.0]        5  ...             5   \n",
       "2  [470.4, 48.0, 133.0, 13.0, 9.0, 91.0, 14.0]        5  ...             5   \n",
       "\n",
       "  calories total fat  sugar  sodium  protein  saturated fat  carbohydrates  \\\n",
       "1    330.2      27.0   20.0    12.0     15.0           50.0           14.0   \n",
       "2    470.4      48.0  133.0    13.0      9.0           91.0           14.0   \n",
       "\n",
       "   Veg/Non  recipe  \n",
       "1      Veg  374887  \n",
       "2  Non Veg  147703  \n",
       "\n",
       "[2 rows x 23 columns]"
      ]
     },
     "execution_count": 80,
     "metadata": {},
     "output_type": "execute_result"
    }
   ],
   "source": [
    "rating.head(2)"
   ]
  },
  {
   "cell_type": "code",
   "execution_count": 81,
   "id": "52d35929",
   "metadata": {},
   "outputs": [
    {
     "data": {
      "text/plain": [
       "(8874, 23)"
      ]
     },
     "execution_count": 81,
     "metadata": {},
     "output_type": "execute_result"
    }
   ],
   "source": [
    "rating.shape"
   ]
  },
  {
   "cell_type": "code",
   "execution_count": 82,
   "id": "c5952b91",
   "metadata": {
    "scrolled": false
   },
   "outputs": [
    {
     "data": {
      "text/plain": [
       "user_id          0\n",
       "recipe_id        0\n",
       "date             0\n",
       "rating           0\n",
       "review           0\n",
       "name             0\n",
       "minutes          0\n",
       "tags             0\n",
       "nutrition        0\n",
       "n_steps          0\n",
       "steps            0\n",
       "description      0\n",
       "ingredients      0\n",
       "n_ingredients    0\n",
       "calories         0\n",
       "total fat        0\n",
       "sugar            0\n",
       "sodium           0\n",
       "protein          0\n",
       "saturated fat    0\n",
       "carbohydrates    0\n",
       "Veg/Non          0\n",
       "recipe           0\n",
       "dtype: int64"
      ]
     },
     "execution_count": 82,
     "metadata": {},
     "output_type": "execute_result"
    }
   ],
   "source": [
    "# Checking for null values\n",
    "rating.isnull().sum()"
   ]
  },
  {
   "cell_type": "code",
   "execution_count": 83,
   "id": "9df2f96f",
   "metadata": {},
   "outputs": [
    {
     "data": {
      "text/plain": [
       "user_id          0\n",
       "recipe_id        0\n",
       "date             0\n",
       "rating           0\n",
       "review           0\n",
       "name             0\n",
       "minutes          0\n",
       "tags             0\n",
       "nutrition        0\n",
       "n_steps          0\n",
       "steps            0\n",
       "description      0\n",
       "ingredients      0\n",
       "n_ingredients    0\n",
       "calories         0\n",
       "total fat        0\n",
       "sugar            0\n",
       "sodium           0\n",
       "protein          0\n",
       "saturated fat    0\n",
       "carbohydrates    0\n",
       "Veg/Non          0\n",
       "recipe           0\n",
       "dtype: int64"
      ]
     },
     "execution_count": 83,
     "metadata": {},
     "output_type": "execute_result"
    }
   ],
   "source": [
    "rating = rating.dropna()\n",
    "rating.isnull().sum()"
   ]
  },
  {
   "cell_type": "code",
   "execution_count": 84,
   "id": "f12d728b",
   "metadata": {},
   "outputs": [],
   "source": [
    "# Making a dataframe that has food ID and the number of ratings\n",
    "\n",
    "food_rating = rating.groupby(by = 'recipe_id').count()"
   ]
  },
  {
   "cell_type": "code",
   "execution_count": 85,
   "id": "a3e539a3",
   "metadata": {},
   "outputs": [
    {
     "data": {
      "text/html": [
       "<div>\n",
       "<style scoped>\n",
       "    .dataframe tbody tr th:only-of-type {\n",
       "        vertical-align: middle;\n",
       "    }\n",
       "\n",
       "    .dataframe tbody tr th {\n",
       "        vertical-align: top;\n",
       "    }\n",
       "\n",
       "    .dataframe thead th {\n",
       "        text-align: right;\n",
       "    }\n",
       "</style>\n",
       "<table border=\"1\" class=\"dataframe\">\n",
       "  <thead>\n",
       "    <tr style=\"text-align: right;\">\n",
       "      <th></th>\n",
       "      <th>recipe_id</th>\n",
       "      <th>Rating_count</th>\n",
       "    </tr>\n",
       "  </thead>\n",
       "  <tbody>\n",
       "    <tr>\n",
       "      <th>0</th>\n",
       "      <td>66</td>\n",
       "      <td>1</td>\n",
       "    </tr>\n",
       "    <tr>\n",
       "      <th>1</th>\n",
       "      <td>92</td>\n",
       "      <td>1</td>\n",
       "    </tr>\n",
       "    <tr>\n",
       "      <th>2</th>\n",
       "      <td>243</td>\n",
       "      <td>1</td>\n",
       "    </tr>\n",
       "    <tr>\n",
       "      <th>3</th>\n",
       "      <td>246</td>\n",
       "      <td>2</td>\n",
       "    </tr>\n",
       "    <tr>\n",
       "      <th>4</th>\n",
       "      <td>400</td>\n",
       "      <td>1</td>\n",
       "    </tr>\n",
       "    <tr>\n",
       "      <th>...</th>\n",
       "      <td>...</td>\n",
       "      <td>...</td>\n",
       "    </tr>\n",
       "    <tr>\n",
       "      <th>6195</th>\n",
       "      <td>524958</td>\n",
       "      <td>2</td>\n",
       "    </tr>\n",
       "    <tr>\n",
       "      <th>6196</th>\n",
       "      <td>527274</td>\n",
       "      <td>1</td>\n",
       "    </tr>\n",
       "    <tr>\n",
       "      <th>6197</th>\n",
       "      <td>528125</td>\n",
       "      <td>1</td>\n",
       "    </tr>\n",
       "    <tr>\n",
       "      <th>6198</th>\n",
       "      <td>531520</td>\n",
       "      <td>1</td>\n",
       "    </tr>\n",
       "    <tr>\n",
       "      <th>6199</th>\n",
       "      <td>534877</td>\n",
       "      <td>1</td>\n",
       "    </tr>\n",
       "  </tbody>\n",
       "</table>\n",
       "<p>6200 rows × 2 columns</p>\n",
       "</div>"
      ],
      "text/plain": [
       "      recipe_id  Rating_count\n",
       "0            66             1\n",
       "1            92             1\n",
       "2           243             1\n",
       "3           246             2\n",
       "4           400             1\n",
       "...         ...           ...\n",
       "6195     524958             2\n",
       "6196     527274             1\n",
       "6197     528125             1\n",
       "6198     531520             1\n",
       "6199     534877             1\n",
       "\n",
       "[6200 rows x 2 columns]"
      ]
     },
     "execution_count": 85,
     "metadata": {},
     "output_type": "execute_result"
    }
   ],
   "source": [
    "food_rating = food_rating['rating'].reset_index().rename(columns={'rating':'Rating_count'})\n",
    "food_rating"
   ]
  },
  {
   "cell_type": "code",
   "execution_count": 86,
   "id": "71d50f8f",
   "metadata": {},
   "outputs": [
    {
     "data": {
      "text/plain": [
       "count    6200.000000\n",
       "mean        1.431290\n",
       "std         1.591472\n",
       "min         1.000000\n",
       "25%         1.000000\n",
       "50%         1.000000\n",
       "75%         1.000000\n",
       "max        64.000000\n",
       "Name: Rating_count, dtype: float64"
      ]
     },
     "execution_count": 86,
     "metadata": {},
     "output_type": "execute_result"
    }
   ],
   "source": [
    "# Food rating dataframe description\n",
    "food_rating['Rating_count'].describe()"
   ]
  },
  {
   "cell_type": "code",
   "execution_count": 87,
   "id": "2985c30c",
   "metadata": {},
   "outputs": [
    {
     "data": {
      "text/html": [
       "<div>\n",
       "<style scoped>\n",
       "    .dataframe tbody tr th:only-of-type {\n",
       "        vertical-align: middle;\n",
       "    }\n",
       "\n",
       "    .dataframe tbody tr th {\n",
       "        vertical-align: top;\n",
       "    }\n",
       "\n",
       "    .dataframe thead th {\n",
       "        text-align: right;\n",
       "    }\n",
       "</style>\n",
       "<table border=\"1\" class=\"dataframe\">\n",
       "  <thead>\n",
       "    <tr style=\"text-align: right;\">\n",
       "      <th></th>\n",
       "      <th>user_id</th>\n",
       "      <th>Rating_count</th>\n",
       "    </tr>\n",
       "  </thead>\n",
       "  <tbody>\n",
       "    <tr>\n",
       "      <th>0</th>\n",
       "      <td>1533</td>\n",
       "      <td>3</td>\n",
       "    </tr>\n",
       "    <tr>\n",
       "      <th>1</th>\n",
       "      <td>1535</td>\n",
       "      <td>9</td>\n",
       "    </tr>\n",
       "    <tr>\n",
       "      <th>2</th>\n",
       "      <td>1634</td>\n",
       "      <td>1</td>\n",
       "    </tr>\n",
       "    <tr>\n",
       "      <th>3</th>\n",
       "      <td>1891</td>\n",
       "      <td>1</td>\n",
       "    </tr>\n",
       "    <tr>\n",
       "      <th>4</th>\n",
       "      <td>2008</td>\n",
       "      <td>1</td>\n",
       "    </tr>\n",
       "    <tr>\n",
       "      <th>...</th>\n",
       "      <td>...</td>\n",
       "      <td>...</td>\n",
       "    </tr>\n",
       "    <tr>\n",
       "      <th>5382</th>\n",
       "      <td>2002295280</td>\n",
       "      <td>1</td>\n",
       "    </tr>\n",
       "    <tr>\n",
       "      <th>5383</th>\n",
       "      <td>2002316095</td>\n",
       "      <td>1</td>\n",
       "    </tr>\n",
       "    <tr>\n",
       "      <th>5384</th>\n",
       "      <td>2002325493</td>\n",
       "      <td>1</td>\n",
       "    </tr>\n",
       "    <tr>\n",
       "      <th>5385</th>\n",
       "      <td>2002326602</td>\n",
       "      <td>1</td>\n",
       "    </tr>\n",
       "    <tr>\n",
       "      <th>5386</th>\n",
       "      <td>2002333914</td>\n",
       "      <td>1</td>\n",
       "    </tr>\n",
       "  </tbody>\n",
       "</table>\n",
       "<p>5387 rows × 2 columns</p>\n",
       "</div>"
      ],
      "text/plain": [
       "         user_id  Rating_count\n",
       "0           1533             3\n",
       "1           1535             9\n",
       "2           1634             1\n",
       "3           1891             1\n",
       "4           2008             1\n",
       "...          ...           ...\n",
       "5382  2002295280             1\n",
       "5383  2002316095             1\n",
       "5384  2002325493             1\n",
       "5385  2002326602             1\n",
       "5386  2002333914             1\n",
       "\n",
       "[5387 rows x 2 columns]"
      ]
     },
     "execution_count": 87,
     "metadata": {},
     "output_type": "execute_result"
    }
   ],
   "source": [
    "# The user rating dataframe shows the number of ratings given with respect to the user\n",
    "user_rating = rating.groupby(by='user_id').count()\n",
    "user_rating = user_rating['rating'].reset_index().rename(columns={'rating':'Rating_count'})\n",
    "user_rating"
   ]
  },
  {
   "cell_type": "code",
   "execution_count": 88,
   "id": "ef0b973c",
   "metadata": {
    "scrolled": true
   },
   "outputs": [
    {
     "data": {
      "text/plain": [
       "count    5387.000000\n",
       "mean        1.647299\n",
       "std         2.578506\n",
       "min         1.000000\n",
       "25%         1.000000\n",
       "50%         1.000000\n",
       "75%         1.000000\n",
       "max        80.000000\n",
       "Name: Rating_count, dtype: float64"
      ]
     },
     "execution_count": 88,
     "metadata": {},
     "output_type": "execute_result"
    }
   ],
   "source": [
    "# User rating dataframe description\n",
    "user_rating[\"Rating_count\"].describe()"
   ]
  },
  {
   "cell_type": "code",
   "execution_count": 89,
   "id": "4d6adf28",
   "metadata": {},
   "outputs": [
    {
     "data": {
      "text/plain": [
       "array([5, 3, 4, 0, 2, 1])"
      ]
     },
     "execution_count": 89,
     "metadata": {},
     "output_type": "execute_result"
    }
   ],
   "source": [
    "rating['rating'].unique()"
   ]
  },
  {
   "cell_type": "code",
   "execution_count": 90,
   "id": "ab18efb4",
   "metadata": {},
   "outputs": [
    {
     "data": {
      "text/html": [
       "<div>\n",
       "<style scoped>\n",
       "    .dataframe tbody tr th:only-of-type {\n",
       "        vertical-align: middle;\n",
       "    }\n",
       "\n",
       "    .dataframe tbody tr th {\n",
       "        vertical-align: top;\n",
       "    }\n",
       "\n",
       "    .dataframe thead th {\n",
       "        text-align: right;\n",
       "    }\n",
       "</style>\n",
       "<table border=\"1\" class=\"dataframe\">\n",
       "  <thead>\n",
       "    <tr style=\"text-align: right;\">\n",
       "      <th>user_id</th>\n",
       "      <th>1533</th>\n",
       "      <th>1535</th>\n",
       "      <th>1634</th>\n",
       "      <th>1891</th>\n",
       "      <th>2008</th>\n",
       "      <th>2178</th>\n",
       "      <th>2310</th>\n",
       "      <th>2312</th>\n",
       "      <th>2586</th>\n",
       "      <th>3090</th>\n",
       "      <th>...</th>\n",
       "      <th>2002267997</th>\n",
       "      <th>2002272219</th>\n",
       "      <th>2002273709</th>\n",
       "      <th>2002276606</th>\n",
       "      <th>2002291457</th>\n",
       "      <th>2002295280</th>\n",
       "      <th>2002316095</th>\n",
       "      <th>2002325493</th>\n",
       "      <th>2002326602</th>\n",
       "      <th>2002333914</th>\n",
       "    </tr>\n",
       "    <tr>\n",
       "      <th>recipe_id</th>\n",
       "      <th></th>\n",
       "      <th></th>\n",
       "      <th></th>\n",
       "      <th></th>\n",
       "      <th></th>\n",
       "      <th></th>\n",
       "      <th></th>\n",
       "      <th></th>\n",
       "      <th></th>\n",
       "      <th></th>\n",
       "      <th></th>\n",
       "      <th></th>\n",
       "      <th></th>\n",
       "      <th></th>\n",
       "      <th></th>\n",
       "      <th></th>\n",
       "      <th></th>\n",
       "      <th></th>\n",
       "      <th></th>\n",
       "      <th></th>\n",
       "      <th></th>\n",
       "    </tr>\n",
       "  </thead>\n",
       "  <tbody>\n",
       "    <tr>\n",
       "      <th>66</th>\n",
       "      <td>0.0</td>\n",
       "      <td>0.0</td>\n",
       "      <td>0.0</td>\n",
       "      <td>0.0</td>\n",
       "      <td>0.0</td>\n",
       "      <td>0.0</td>\n",
       "      <td>0.0</td>\n",
       "      <td>0.0</td>\n",
       "      <td>0.0</td>\n",
       "      <td>0.0</td>\n",
       "      <td>...</td>\n",
       "      <td>0.0</td>\n",
       "      <td>0.0</td>\n",
       "      <td>0.0</td>\n",
       "      <td>0.0</td>\n",
       "      <td>0.0</td>\n",
       "      <td>0.0</td>\n",
       "      <td>0.0</td>\n",
       "      <td>0.0</td>\n",
       "      <td>0.0</td>\n",
       "      <td>0.0</td>\n",
       "    </tr>\n",
       "    <tr>\n",
       "      <th>92</th>\n",
       "      <td>0.0</td>\n",
       "      <td>0.0</td>\n",
       "      <td>0.0</td>\n",
       "      <td>0.0</td>\n",
       "      <td>0.0</td>\n",
       "      <td>0.0</td>\n",
       "      <td>0.0</td>\n",
       "      <td>0.0</td>\n",
       "      <td>0.0</td>\n",
       "      <td>0.0</td>\n",
       "      <td>...</td>\n",
       "      <td>0.0</td>\n",
       "      <td>0.0</td>\n",
       "      <td>0.0</td>\n",
       "      <td>0.0</td>\n",
       "      <td>0.0</td>\n",
       "      <td>0.0</td>\n",
       "      <td>0.0</td>\n",
       "      <td>0.0</td>\n",
       "      <td>0.0</td>\n",
       "      <td>0.0</td>\n",
       "    </tr>\n",
       "    <tr>\n",
       "      <th>243</th>\n",
       "      <td>0.0</td>\n",
       "      <td>0.0</td>\n",
       "      <td>0.0</td>\n",
       "      <td>0.0</td>\n",
       "      <td>0.0</td>\n",
       "      <td>0.0</td>\n",
       "      <td>0.0</td>\n",
       "      <td>0.0</td>\n",
       "      <td>0.0</td>\n",
       "      <td>0.0</td>\n",
       "      <td>...</td>\n",
       "      <td>0.0</td>\n",
       "      <td>0.0</td>\n",
       "      <td>0.0</td>\n",
       "      <td>0.0</td>\n",
       "      <td>0.0</td>\n",
       "      <td>0.0</td>\n",
       "      <td>0.0</td>\n",
       "      <td>0.0</td>\n",
       "      <td>0.0</td>\n",
       "      <td>0.0</td>\n",
       "    </tr>\n",
       "    <tr>\n",
       "      <th>246</th>\n",
       "      <td>0.0</td>\n",
       "      <td>0.0</td>\n",
       "      <td>0.0</td>\n",
       "      <td>0.0</td>\n",
       "      <td>0.0</td>\n",
       "      <td>0.0</td>\n",
       "      <td>0.0</td>\n",
       "      <td>0.0</td>\n",
       "      <td>0.0</td>\n",
       "      <td>0.0</td>\n",
       "      <td>...</td>\n",
       "      <td>0.0</td>\n",
       "      <td>0.0</td>\n",
       "      <td>0.0</td>\n",
       "      <td>0.0</td>\n",
       "      <td>0.0</td>\n",
       "      <td>0.0</td>\n",
       "      <td>0.0</td>\n",
       "      <td>0.0</td>\n",
       "      <td>0.0</td>\n",
       "      <td>0.0</td>\n",
       "    </tr>\n",
       "    <tr>\n",
       "      <th>400</th>\n",
       "      <td>0.0</td>\n",
       "      <td>0.0</td>\n",
       "      <td>0.0</td>\n",
       "      <td>0.0</td>\n",
       "      <td>0.0</td>\n",
       "      <td>0.0</td>\n",
       "      <td>0.0</td>\n",
       "      <td>0.0</td>\n",
       "      <td>0.0</td>\n",
       "      <td>0.0</td>\n",
       "      <td>...</td>\n",
       "      <td>0.0</td>\n",
       "      <td>0.0</td>\n",
       "      <td>0.0</td>\n",
       "      <td>0.0</td>\n",
       "      <td>0.0</td>\n",
       "      <td>0.0</td>\n",
       "      <td>0.0</td>\n",
       "      <td>0.0</td>\n",
       "      <td>0.0</td>\n",
       "      <td>0.0</td>\n",
       "    </tr>\n",
       "    <tr>\n",
       "      <th>546</th>\n",
       "      <td>0.0</td>\n",
       "      <td>0.0</td>\n",
       "      <td>0.0</td>\n",
       "      <td>0.0</td>\n",
       "      <td>0.0</td>\n",
       "      <td>0.0</td>\n",
       "      <td>0.0</td>\n",
       "      <td>0.0</td>\n",
       "      <td>0.0</td>\n",
       "      <td>0.0</td>\n",
       "      <td>...</td>\n",
       "      <td>0.0</td>\n",
       "      <td>0.0</td>\n",
       "      <td>0.0</td>\n",
       "      <td>0.0</td>\n",
       "      <td>0.0</td>\n",
       "      <td>0.0</td>\n",
       "      <td>0.0</td>\n",
       "      <td>0.0</td>\n",
       "      <td>0.0</td>\n",
       "      <td>0.0</td>\n",
       "    </tr>\n",
       "    <tr>\n",
       "      <th>561</th>\n",
       "      <td>0.0</td>\n",
       "      <td>0.0</td>\n",
       "      <td>0.0</td>\n",
       "      <td>0.0</td>\n",
       "      <td>0.0</td>\n",
       "      <td>0.0</td>\n",
       "      <td>0.0</td>\n",
       "      <td>0.0</td>\n",
       "      <td>0.0</td>\n",
       "      <td>0.0</td>\n",
       "      <td>...</td>\n",
       "      <td>0.0</td>\n",
       "      <td>0.0</td>\n",
       "      <td>0.0</td>\n",
       "      <td>0.0</td>\n",
       "      <td>0.0</td>\n",
       "      <td>0.0</td>\n",
       "      <td>0.0</td>\n",
       "      <td>0.0</td>\n",
       "      <td>0.0</td>\n",
       "      <td>0.0</td>\n",
       "    </tr>\n",
       "    <tr>\n",
       "      <th>571</th>\n",
       "      <td>0.0</td>\n",
       "      <td>0.0</td>\n",
       "      <td>0.0</td>\n",
       "      <td>0.0</td>\n",
       "      <td>0.0</td>\n",
       "      <td>0.0</td>\n",
       "      <td>0.0</td>\n",
       "      <td>0.0</td>\n",
       "      <td>0.0</td>\n",
       "      <td>0.0</td>\n",
       "      <td>...</td>\n",
       "      <td>0.0</td>\n",
       "      <td>0.0</td>\n",
       "      <td>0.0</td>\n",
       "      <td>0.0</td>\n",
       "      <td>0.0</td>\n",
       "      <td>0.0</td>\n",
       "      <td>0.0</td>\n",
       "      <td>0.0</td>\n",
       "      <td>0.0</td>\n",
       "      <td>0.0</td>\n",
       "    </tr>\n",
       "    <tr>\n",
       "      <th>645</th>\n",
       "      <td>0.0</td>\n",
       "      <td>0.0</td>\n",
       "      <td>0.0</td>\n",
       "      <td>0.0</td>\n",
       "      <td>0.0</td>\n",
       "      <td>0.0</td>\n",
       "      <td>0.0</td>\n",
       "      <td>0.0</td>\n",
       "      <td>0.0</td>\n",
       "      <td>0.0</td>\n",
       "      <td>...</td>\n",
       "      <td>0.0</td>\n",
       "      <td>0.0</td>\n",
       "      <td>0.0</td>\n",
       "      <td>0.0</td>\n",
       "      <td>0.0</td>\n",
       "      <td>0.0</td>\n",
       "      <td>0.0</td>\n",
       "      <td>0.0</td>\n",
       "      <td>0.0</td>\n",
       "      <td>0.0</td>\n",
       "    </tr>\n",
       "    <tr>\n",
       "      <th>666</th>\n",
       "      <td>0.0</td>\n",
       "      <td>0.0</td>\n",
       "      <td>0.0</td>\n",
       "      <td>0.0</td>\n",
       "      <td>0.0</td>\n",
       "      <td>0.0</td>\n",
       "      <td>0.0</td>\n",
       "      <td>0.0</td>\n",
       "      <td>0.0</td>\n",
       "      <td>0.0</td>\n",
       "      <td>...</td>\n",
       "      <td>0.0</td>\n",
       "      <td>0.0</td>\n",
       "      <td>0.0</td>\n",
       "      <td>0.0</td>\n",
       "      <td>0.0</td>\n",
       "      <td>0.0</td>\n",
       "      <td>0.0</td>\n",
       "      <td>0.0</td>\n",
       "      <td>0.0</td>\n",
       "      <td>0.0</td>\n",
       "    </tr>\n",
       "  </tbody>\n",
       "</table>\n",
       "<p>10 rows × 5387 columns</p>\n",
       "</div>"
      ],
      "text/plain": [
       "user_id    1533        1535        1634        1891        2008        \\\n",
       "recipe_id                                                               \n",
       "66                0.0         0.0         0.0         0.0         0.0   \n",
       "92                0.0         0.0         0.0         0.0         0.0   \n",
       "243               0.0         0.0         0.0         0.0         0.0   \n",
       "246               0.0         0.0         0.0         0.0         0.0   \n",
       "400               0.0         0.0         0.0         0.0         0.0   \n",
       "546               0.0         0.0         0.0         0.0         0.0   \n",
       "561               0.0         0.0         0.0         0.0         0.0   \n",
       "571               0.0         0.0         0.0         0.0         0.0   \n",
       "645               0.0         0.0         0.0         0.0         0.0   \n",
       "666               0.0         0.0         0.0         0.0         0.0   \n",
       "\n",
       "user_id    2178        2310        2312        2586        3090        ...  \\\n",
       "recipe_id                                                              ...   \n",
       "66                0.0         0.0         0.0         0.0         0.0  ...   \n",
       "92                0.0         0.0         0.0         0.0         0.0  ...   \n",
       "243               0.0         0.0         0.0         0.0         0.0  ...   \n",
       "246               0.0         0.0         0.0         0.0         0.0  ...   \n",
       "400               0.0         0.0         0.0         0.0         0.0  ...   \n",
       "546               0.0         0.0         0.0         0.0         0.0  ...   \n",
       "561               0.0         0.0         0.0         0.0         0.0  ...   \n",
       "571               0.0         0.0         0.0         0.0         0.0  ...   \n",
       "645               0.0         0.0         0.0         0.0         0.0  ...   \n",
       "666               0.0         0.0         0.0         0.0         0.0  ...   \n",
       "\n",
       "user_id    2002267997  2002272219  2002273709  2002276606  2002291457  \\\n",
       "recipe_id                                                               \n",
       "66                0.0         0.0         0.0         0.0         0.0   \n",
       "92                0.0         0.0         0.0         0.0         0.0   \n",
       "243               0.0         0.0         0.0         0.0         0.0   \n",
       "246               0.0         0.0         0.0         0.0         0.0   \n",
       "400               0.0         0.0         0.0         0.0         0.0   \n",
       "546               0.0         0.0         0.0         0.0         0.0   \n",
       "561               0.0         0.0         0.0         0.0         0.0   \n",
       "571               0.0         0.0         0.0         0.0         0.0   \n",
       "645               0.0         0.0         0.0         0.0         0.0   \n",
       "666               0.0         0.0         0.0         0.0         0.0   \n",
       "\n",
       "user_id    2002295280  2002316095  2002325493  2002326602  2002333914  \n",
       "recipe_id                                                              \n",
       "66                0.0         0.0         0.0         0.0         0.0  \n",
       "92                0.0         0.0         0.0         0.0         0.0  \n",
       "243               0.0         0.0         0.0         0.0         0.0  \n",
       "246               0.0         0.0         0.0         0.0         0.0  \n",
       "400               0.0         0.0         0.0         0.0         0.0  \n",
       "546               0.0         0.0         0.0         0.0         0.0  \n",
       "561               0.0         0.0         0.0         0.0         0.0  \n",
       "571               0.0         0.0         0.0         0.0         0.0  \n",
       "645               0.0         0.0         0.0         0.0         0.0  \n",
       "666               0.0         0.0         0.0         0.0         0.0  \n",
       "\n",
       "[10 rows x 5387 columns]"
      ]
     },
     "execution_count": 90,
     "metadata": {},
     "output_type": "execute_result"
    }
   ],
   "source": [
    "# Ultimate Table\n",
    "rating_matrix = rating.pivot_table(index='recipe_id',columns='user_id',values='rating').fillna(0)\n",
    "rating_matrix.head(10)"
   ]
  },
  {
   "cell_type": "code",
   "execution_count": 91,
   "id": "27a55449",
   "metadata": {},
   "outputs": [
    {
     "data": {
      "text/plain": [
       "(6200, 5387)"
      ]
     },
     "execution_count": 91,
     "metadata": {},
     "output_type": "execute_result"
    }
   ],
   "source": [
    "# Shape of rating_matrix\n",
    "rating_matrix.shape"
   ]
  },
  {
   "cell_type": "code",
   "execution_count": 92,
   "id": "0da9f426",
   "metadata": {},
   "outputs": [
    {
     "name": "stdout",
     "output_type": "stream",
     "text": [
      "  (0, 2100)\t5.0\n",
      "  (1, 4058)\t5.0\n",
      "  (2, 1539)\t5.0\n",
      "  (3, 791)\t5.0\n",
      "  (3, 818)\t4.0\n",
      "  (4, 21)\t5.0\n",
      "  (5, 2355)\t4.0\n",
      "  (6, 1184)\t5.0\n",
      "  (7, 186)\t4.0\n",
      "  (8, 4930)\t1.0\n",
      "  (9, 697)\t5.0\n",
      "  (10, 4241)\t5.0\n",
      "  (11, 2497)\t5.0\n",
      "  (12, 1721)\t5.0\n",
      "  (13, 1226)\t5.0\n",
      "  (13, 4616)\t5.0\n",
      "  (14, 23)\t5.0\n",
      "  (15, 0)\t5.0\n",
      "  (15, 3726)\t5.0\n",
      "  (16, 831)\t5.0\n",
      "  (16, 1026)\t5.0\n",
      "  (16, 1110)\t5.0\n",
      "  (16, 1491)\t5.0\n",
      "  (16, 1527)\t4.0\n",
      "  (16, 1925)\t5.0\n",
      "  :\t:\n",
      "  (6177, 5026)\t4.0\n",
      "  (6178, 2902)\t5.0\n",
      "  (6179, 2098)\t5.0\n",
      "  (6180, 1502)\t5.0\n",
      "  (6181, 4891)\t5.0\n",
      "  (6181, 4895)\t5.0\n",
      "  (6182, 4894)\t5.0\n",
      "  (6183, 4893)\t5.0\n",
      "  (6184, 1502)\t5.0\n",
      "  (6185, 5085)\t5.0\n",
      "  (6186, 1246)\t5.0\n",
      "  (6187, 1280)\t5.0\n",
      "  (6188, 3623)\t5.0\n",
      "  (6189, 4590)\t5.0\n",
      "  (6190, 1246)\t5.0\n",
      "  (6191, 5289)\t5.0\n",
      "  (6192, 4078)\t5.0\n",
      "  (6193, 3747)\t5.0\n",
      "  (6194, 4634)\t5.0\n",
      "  (6195, 5061)\t5.0\n",
      "  (6195, 5062)\t5.0\n",
      "  (6196, 5224)\t2.0\n",
      "  (6197, 5139)\t5.0\n",
      "  (6198, 5215)\t5.0\n",
      "  (6199, 3504)\t5.0\n"
     ]
    }
   ],
   "source": [
    "### What is csr_matrix?\n",
    "# Sparse matrix is a matrix that contains a lot of zeros. This functions helps to compress the sparse matrix.\n",
    "# Thanks to https://docs.scipy.org/doc/scipy/reference/generated/scipy.sparse.csr_matrix.html\n",
    "from scipy.sparse import csr_matrix\n",
    "\n",
    "csr_rating_matrix =  csr_matrix(rating_matrix.values)\n",
    "print(csr_rating_matrix)"
   ]
  },
  {
   "cell_type": "code",
   "execution_count": 93,
   "id": "43651da5",
   "metadata": {},
   "outputs": [
    {
     "data": {
      "text/plain": [
       "(6200, 5387)"
      ]
     },
     "execution_count": 93,
     "metadata": {},
     "output_type": "execute_result"
    }
   ],
   "source": [
    "csr_rating_matrix.shape"
   ]
  },
  {
   "cell_type": "code",
   "execution_count": 94,
   "id": "9dfbe7b6",
   "metadata": {},
   "outputs": [
    {
     "data": {
      "text/html": [
       "<div>\n",
       "<style scoped>\n",
       "    .dataframe tbody tr th:only-of-type {\n",
       "        vertical-align: middle;\n",
       "    }\n",
       "\n",
       "    .dataframe tbody tr th {\n",
       "        vertical-align: top;\n",
       "    }\n",
       "\n",
       "    .dataframe thead th {\n",
       "        text-align: right;\n",
       "    }\n",
       "</style>\n",
       "<table border=\"1\" class=\"dataframe\">\n",
       "  <thead>\n",
       "    <tr style=\"text-align: right;\">\n",
       "      <th></th>\n",
       "      <th>recipe_id</th>\n",
       "      <th>index</th>\n",
       "    </tr>\n",
       "    <tr>\n",
       "      <th>name</th>\n",
       "      <th></th>\n",
       "      <th></th>\n",
       "    </tr>\n",
       "  </thead>\n",
       "  <tbody>\n",
       "    <tr>\n",
       "      <th>rotel corn</th>\n",
       "      <td>374887</td>\n",
       "      <td>0</td>\n",
       "    </tr>\n",
       "    <tr>\n",
       "      <th>easy key lime pie</th>\n",
       "      <td>147703</td>\n",
       "      <td>1</td>\n",
       "    </tr>\n",
       "    <tr>\n",
       "      <th>no bake chocolate oatmeal cookies gluten free</th>\n",
       "      <td>228152</td>\n",
       "      <td>2</td>\n",
       "    </tr>\n",
       "    <tr>\n",
       "      <th>grilled cajun chicken</th>\n",
       "      <td>248669</td>\n",
       "      <td>3</td>\n",
       "    </tr>\n",
       "    <tr>\n",
       "      <th>soy sauce substitute with very low sodium</th>\n",
       "      <td>295264</td>\n",
       "      <td>4</td>\n",
       "    </tr>\n",
       "    <tr>\n",
       "      <th>...</th>\n",
       "      <td>...</td>\n",
       "      <td>...</td>\n",
       "    </tr>\n",
       "    <tr>\n",
       "      <th>summer garden bread salad</th>\n",
       "      <td>94301</td>\n",
       "      <td>6195</td>\n",
       "    </tr>\n",
       "    <tr>\n",
       "      <th>meatloaf sandwiches</th>\n",
       "      <td>395800</td>\n",
       "      <td>6196</td>\n",
       "    </tr>\n",
       "    <tr>\n",
       "      <th>quick easy and yummy fruit salad</th>\n",
       "      <td>266722</td>\n",
       "      <td>6197</td>\n",
       "    </tr>\n",
       "    <tr>\n",
       "      <th>chocolate dipped peanut butter cracker sandwiches</th>\n",
       "      <td>274173</td>\n",
       "      <td>6198</td>\n",
       "    </tr>\n",
       "    <tr>\n",
       "      <th>cheeseburger po boy</th>\n",
       "      <td>145417</td>\n",
       "      <td>6199</td>\n",
       "    </tr>\n",
       "  </tbody>\n",
       "</table>\n",
       "<p>6200 rows × 2 columns</p>\n",
       "</div>"
      ],
      "text/plain": [
       "                                                   recipe_id  index\n",
       "name                                                               \n",
       "rotel corn                                            374887      0\n",
       "easy key lime pie                                     147703      1\n",
       "no bake chocolate oatmeal cookies gluten free         228152      2\n",
       "grilled cajun chicken                                 248669      3\n",
       "soy sauce substitute with very low sodium             295264      4\n",
       "...                                                      ...    ...\n",
       "summer garden bread salad                              94301   6195\n",
       "meatloaf sandwiches                                   395800   6196\n",
       "quick easy and yummy fruit salad                      266722   6197\n",
       "chocolate dipped peanut butter cracker sandwiches     274173   6198\n",
       "cheeseburger po boy                                   145417   6199\n",
       "\n",
       "[6200 rows x 2 columns]"
      ]
     },
     "execution_count": 94,
     "metadata": {},
     "output_type": "execute_result"
    }
   ],
   "source": [
    "### What is Nearest Neighbours?\n",
    "#Reference Link: https://scikit-learn.org/stable/modules/neighbors.html\n",
    "\n",
    "indices"
   ]
  },
  {
   "cell_type": "code",
   "execution_count": 95,
   "id": "70d105de",
   "metadata": {
    "scrolled": true
   },
   "outputs": [
    {
     "data": {
      "text/html": [
       "<style>#sk-container-id-1 {color: black;background-color: white;}#sk-container-id-1 pre{padding: 0;}#sk-container-id-1 div.sk-toggleable {background-color: white;}#sk-container-id-1 label.sk-toggleable__label {cursor: pointer;display: block;width: 100%;margin-bottom: 0;padding: 0.3em;box-sizing: border-box;text-align: center;}#sk-container-id-1 label.sk-toggleable__label-arrow:before {content: \"▸\";float: left;margin-right: 0.25em;color: #696969;}#sk-container-id-1 label.sk-toggleable__label-arrow:hover:before {color: black;}#sk-container-id-1 div.sk-estimator:hover label.sk-toggleable__label-arrow:before {color: black;}#sk-container-id-1 div.sk-toggleable__content {max-height: 0;max-width: 0;overflow: hidden;text-align: left;background-color: #f0f8ff;}#sk-container-id-1 div.sk-toggleable__content pre {margin: 0.2em;color: black;border-radius: 0.25em;background-color: #f0f8ff;}#sk-container-id-1 input.sk-toggleable__control:checked~div.sk-toggleable__content {max-height: 200px;max-width: 100%;overflow: auto;}#sk-container-id-1 input.sk-toggleable__control:checked~label.sk-toggleable__label-arrow:before {content: \"▾\";}#sk-container-id-1 div.sk-estimator input.sk-toggleable__control:checked~label.sk-toggleable__label {background-color: #d4ebff;}#sk-container-id-1 div.sk-label input.sk-toggleable__control:checked~label.sk-toggleable__label {background-color: #d4ebff;}#sk-container-id-1 input.sk-hidden--visually {border: 0;clip: rect(1px 1px 1px 1px);clip: rect(1px, 1px, 1px, 1px);height: 1px;margin: -1px;overflow: hidden;padding: 0;position: absolute;width: 1px;}#sk-container-id-1 div.sk-estimator {font-family: monospace;background-color: #f0f8ff;border: 1px dotted black;border-radius: 0.25em;box-sizing: border-box;margin-bottom: 0.5em;}#sk-container-id-1 div.sk-estimator:hover {background-color: #d4ebff;}#sk-container-id-1 div.sk-parallel-item::after {content: \"\";width: 100%;border-bottom: 1px solid gray;flex-grow: 1;}#sk-container-id-1 div.sk-label:hover label.sk-toggleable__label {background-color: #d4ebff;}#sk-container-id-1 div.sk-serial::before {content: \"\";position: absolute;border-left: 1px solid gray;box-sizing: border-box;top: 0;bottom: 0;left: 50%;z-index: 0;}#sk-container-id-1 div.sk-serial {display: flex;flex-direction: column;align-items: center;background-color: white;padding-right: 0.2em;padding-left: 0.2em;position: relative;}#sk-container-id-1 div.sk-item {position: relative;z-index: 1;}#sk-container-id-1 div.sk-parallel {display: flex;align-items: stretch;justify-content: center;background-color: white;position: relative;}#sk-container-id-1 div.sk-item::before, #sk-container-id-1 div.sk-parallel-item::before {content: \"\";position: absolute;border-left: 1px solid gray;box-sizing: border-box;top: 0;bottom: 0;left: 50%;z-index: -1;}#sk-container-id-1 div.sk-parallel-item {display: flex;flex-direction: column;z-index: 1;position: relative;background-color: white;}#sk-container-id-1 div.sk-parallel-item:first-child::after {align-self: flex-end;width: 50%;}#sk-container-id-1 div.sk-parallel-item:last-child::after {align-self: flex-start;width: 50%;}#sk-container-id-1 div.sk-parallel-item:only-child::after {width: 0;}#sk-container-id-1 div.sk-dashed-wrapped {border: 1px dashed gray;margin: 0 0.4em 0.5em 0.4em;box-sizing: border-box;padding-bottom: 0.4em;background-color: white;}#sk-container-id-1 div.sk-label label {font-family: monospace;font-weight: bold;display: inline-block;line-height: 1.2em;}#sk-container-id-1 div.sk-label-container {text-align: center;}#sk-container-id-1 div.sk-container {/* jupyter's `normalize.less` sets `[hidden] { display: none; }` but bootstrap.min.css set `[hidden] { display: none !important; }` so we also need the `!important` here to be able to override the default hidden behavior on the sphinx rendered scikit-learn.org. See: https://github.com/scikit-learn/scikit-learn/issues/21755 */display: inline-block !important;position: relative;}#sk-container-id-1 div.sk-text-repr-fallback {display: none;}</style><div id=\"sk-container-id-1\" class=\"sk-top-container\"><div class=\"sk-text-repr-fallback\"><pre>NearestNeighbors(metric=&#x27;cosine&#x27;)</pre><b>In a Jupyter environment, please rerun this cell to show the HTML representation or trust the notebook. <br />On GitHub, the HTML representation is unable to render, please try loading this page with nbviewer.org.</b></div><div class=\"sk-container\" hidden><div class=\"sk-item\"><div class=\"sk-estimator sk-toggleable\"><input class=\"sk-toggleable__control sk-hidden--visually\" id=\"sk-estimator-id-1\" type=\"checkbox\" checked><label for=\"sk-estimator-id-1\" class=\"sk-toggleable__label sk-toggleable__label-arrow\">NearestNeighbors</label><div class=\"sk-toggleable__content\"><pre>NearestNeighbors(metric=&#x27;cosine&#x27;)</pre></div></div></div></div></div>"
      ],
      "text/plain": [
       "NearestNeighbors(metric='cosine')"
      ]
     },
     "execution_count": 95,
     "metadata": {},
     "output_type": "execute_result"
    }
   ],
   "source": [
    "# Using cosine similarity to find nearest neigbours\n",
    "from sklearn.neighbors import NearestNeighbors\n",
    "\n",
    "recommender = NearestNeighbors(metric='cosine')\n",
    "recommender.fit(csr_rating_matrix)"
   ]
  },
  {
   "cell_type": "code",
   "execution_count": 96,
   "id": "d3118d79",
   "metadata": {},
   "outputs": [],
   "source": [
    "# The main recommender code!\n",
    "def Get_Recommendations(recommender, title, indices):\n",
    "    user = indices[indices.index==title] # gets the row which contains the id of the given food\n",
    "    recipe_index = np.where(rating_matrix.index==int(user['recipe_id'][0]))[0][0] # gets the index where we can get the food with that id\n",
    "    user_ratings = rating_matrix.iloc[recipe_index] # returns the row with the ratings given by each users\n",
    "    reshaped = user_ratings.values.reshape(1,-1) # reshaping into 2d array\n",
    "    distances, idx = recommender.kneighbors(reshaped,n_neighbors=11) # return distances and index of the rows of rating_matrix with is similar to the given input\n",
    "    nearest_neighbors_indices = rating_matrix.iloc[idx[0]].index[:] # gets the index of those rows\n",
    "\n",
    "    nearest_neighbors = pd.DataFrame({'recipe_id': nearest_neighbors_indices}) # converitng it into dataframe\n",
    "    print(nearest_neighbors_indices) ## due to too many users the same product is little far from similarity\n",
    "    names = []\n",
    "    for idx in nearest_neighbors_indices:\n",
    "        names.append(indices[indices.recipe_id==idx].index[0])\n",
    "        print(names[-1])\n",
    "    return names, nearest_neighbors_indices"
   ]
  },
  {
   "cell_type": "code",
   "execution_count": 97,
   "id": "5e5a2849",
   "metadata": {
    "scrolled": true
   },
   "outputs": [
    {
     "name": "stdout",
     "output_type": "stream",
     "text": [
      "Int64Index([374887, 241627, 241430, 241455, 241596, 241264, 241624, 242102,\n",
      "            242077, 241150, 242043],\n",
      "           dtype='int64', name='recipe_id')\n",
      "rotel corn\n",
      "simple pasta with parmesan\n",
      "corn and tomato french pasta\n",
      "ginger glazed mahi\n",
      "no bake crispy peanut butter squares\n",
      "instant dream waker oatmeal\n",
      "bangladeshi potato kebabs\n",
      "skillet red rice arroz a la mexicana\n",
      "super easy lo mein\n",
      "guam red rice\n",
      "napa cabbage salad with a crunch\n"
     ]
    }
   ],
   "source": [
    "# Get recommendations with this function\n",
    "x, y = Get_Recommendations(recommender,'rotel corn', indices)"
   ]
  },
  {
   "cell_type": "code",
   "execution_count": 98,
   "id": "a3aa4719",
   "metadata": {},
   "outputs": [
    {
     "data": {
      "text/plain": [
       "['rotel corn',\n",
       " 'simple pasta with parmesan',\n",
       " 'corn and tomato french pasta',\n",
       " 'ginger glazed mahi',\n",
       " 'no bake crispy peanut butter squares',\n",
       " 'instant dream waker oatmeal',\n",
       " 'bangladeshi potato kebabs',\n",
       " 'skillet red rice arroz a la mexicana',\n",
       " 'super easy lo mein',\n",
       " 'guam red rice',\n",
       " 'napa cabbage salad with a crunch']"
      ]
     },
     "execution_count": 98,
     "metadata": {},
     "output_type": "execute_result"
    }
   ],
   "source": [
    "x"
   ]
  },
  {
   "cell_type": "code",
   "execution_count": 99,
   "id": "e8ef830b",
   "metadata": {},
   "outputs": [
    {
     "data": {
      "text/plain": [
       "Int64Index([374887, 241627, 241430, 241455, 241596, 241264, 241624, 242102,\n",
       "            242077, 241150, 242043],\n",
       "           dtype='int64', name='recipe_id')"
      ]
     },
     "execution_count": 99,
     "metadata": {},
     "output_type": "execute_result"
    }
   ],
   "source": [
    "y"
   ]
  },
  {
   "cell_type": "code",
   "execution_count": 100,
   "id": "8df72564",
   "metadata": {},
   "outputs": [
    {
     "data": {
      "text/plain": [
       "1                                               rotel corn\n",
       "2                                        easy key lime pie\n",
       "3            no bake chocolate oatmeal cookies gluten free\n",
       "4                                    grilled cajun chicken\n",
       "5                soy sauce substitute with very low sodium\n",
       "                               ...                        \n",
       "10548                            summer garden bread salad\n",
       "10549                                  meatloaf sandwiches\n",
       "10550                     quick easy and yummy fruit salad\n",
       "10551    chocolate dipped peanut butter cracker sandwiches\n",
       "10554                                  cheeseburger po boy\n",
       "Name: name, Length: 8874, dtype: object"
      ]
     },
     "execution_count": 100,
     "metadata": {},
     "output_type": "execute_result"
    }
   ],
   "source": [
    "data.name"
   ]
  },
  {
   "cell_type": "code",
   "execution_count": 101,
   "id": "7144df57",
   "metadata": {},
   "outputs": [],
   "source": [
    "import _pickle as cPickle\n",
    "# save the classifier\n",
    "with open('data/recommender.pkl', 'wb') as fid:\n",
    "    cPickle.dump(recommender, fid)    "
   ]
  },
  {
   "cell_type": "code",
   "execution_count": 109,
   "id": "402d2520",
   "metadata": {},
   "outputs": [],
   "source": [
    "# np.save('data/rating_matrix', rating_matrix)\n",
    "rating_matrix.to_csv('data/rating_matrix.csv')"
   ]
  },
  {
   "cell_type": "code",
   "execution_count": 103,
   "id": "e0c6b6bc",
   "metadata": {},
   "outputs": [],
   "source": [
    "with open('data/recommender.pkl', 'rb') as fid:\n",
    "    recom = cPickle.load(fid)"
   ]
  },
  {
   "cell_type": "code",
   "execution_count": 105,
   "id": "4e1a0ccc",
   "metadata": {},
   "outputs": [
    {
     "name": "stdout",
     "output_type": "stream",
     "text": [
      "Int64Index([374887, 241627, 241430, 241455, 241596, 241264, 241624, 242102,\n",
      "            242077, 241150, 242043],\n",
      "           dtype='int64', name='recipe_id')\n",
      "rotel corn\n",
      "simple pasta with parmesan\n",
      "corn and tomato french pasta\n",
      "ginger glazed mahi\n",
      "no bake crispy peanut butter squares\n",
      "instant dream waker oatmeal\n",
      "bangladeshi potato kebabs\n",
      "skillet red rice arroz a la mexicana\n",
      "super easy lo mein\n",
      "guam red rice\n",
      "napa cabbage salad with a crunch\n"
     ]
    }
   ],
   "source": [
    "# Get recommendations with this function\n",
    "x, y = Get_Recommendations(recom,'rotel corn', indices)"
   ]
  },
  {
   "cell_type": "code",
   "execution_count": 106,
   "id": "e4bbc667",
   "metadata": {},
   "outputs": [],
   "source": [
    "# !pip freeze >> requirement.txt"
   ]
  },
  {
   "cell_type": "code",
   "execution_count": 107,
   "id": "f028b82f",
   "metadata": {},
   "outputs": [
    {
     "data": {
      "text/plain": [
       "'1.5.3'"
      ]
     },
     "execution_count": 107,
     "metadata": {},
     "output_type": "execute_result"
    }
   ],
   "source": [
    "pd.__version__"
   ]
  },
  {
   "cell_type": "code",
   "execution_count": null,
   "id": "f090a8dd",
   "metadata": {},
   "outputs": [],
   "source": []
  }
 ],
 "metadata": {
  "kernelspec": {
   "display_name": "Python 3 (ipykernel)",
   "language": "python",
   "name": "python3"
  },
  "language_info": {
   "codemirror_mode": {
    "name": "ipython",
    "version": 3
   },
   "file_extension": ".py",
   "mimetype": "text/x-python",
   "name": "python",
   "nbconvert_exporter": "python",
   "pygments_lexer": "ipython3",
   "version": "3.10.9"
  },
  "papermill": {
   "default_parameters": {},
   "duration": 49.455895,
   "end_time": "2022-09-23T07:33:04.610148",
   "environment_variables": {},
   "exception": null,
   "input_path": "__notebook__.ipynb",
   "output_path": "__notebook__.ipynb",
   "parameters": {},
   "start_time": "2022-09-23T07:32:15.154253",
   "version": "2.3.4"
  }
 },
 "nbformat": 4,
 "nbformat_minor": 5
}
