{
 "cells": [
  {
   "cell_type": "code",
   "execution_count": 1,
   "metadata": {
    "id": "piuGGLk-2BqH"
   },
   "outputs": [],
   "source": [
    "from PIL import Image\n",
    "import shutil\n",
    "import urllib\n",
    "import requests\n",
    "from bs4 import BeautifulSoup\n",
    "import pandas as pd\n",
    "import numpy as np"
   ]
  },
  {
   "cell_type": "code",
   "execution_count": 2,
   "metadata": {
    "id": "jn8oIMma_J43"
   },
   "outputs": [],
   "source": [
    "df = pd.read_csv('indices.csv')"
   ]
  },
  {
   "cell_type": "code",
   "execution_count": 3,
   "metadata": {
    "colab": {
     "base_uri": "https://localhost:8080/",
     "height": 206
    },
    "id": "Ni18OZA1_OQk",
    "outputId": "c38aa04f-fb25-4572-ac5d-1d4649c3e25c"
   },
   "outputs": [
    {
     "data": {
      "text/html": [
       "<div>\n",
       "<style scoped>\n",
       "    .dataframe tbody tr th:only-of-type {\n",
       "        vertical-align: middle;\n",
       "    }\n",
       "\n",
       "    .dataframe tbody tr th {\n",
       "        vertical-align: top;\n",
       "    }\n",
       "\n",
       "    .dataframe thead th {\n",
       "        text-align: right;\n",
       "    }\n",
       "</style>\n",
       "<table border=\"1\" class=\"dataframe\">\n",
       "  <thead>\n",
       "    <tr style=\"text-align: right;\">\n",
       "      <th></th>\n",
       "      <th>name</th>\n",
       "      <th>recipe_id</th>\n",
       "    </tr>\n",
       "  </thead>\n",
       "  <tbody>\n",
       "    <tr>\n",
       "      <th>0</th>\n",
       "      <td>rotel corn</td>\n",
       "      <td>374887</td>\n",
       "    </tr>\n",
       "    <tr>\n",
       "      <th>1</th>\n",
       "      <td>easy key lime pie</td>\n",
       "      <td>147703</td>\n",
       "    </tr>\n",
       "    <tr>\n",
       "      <th>2</th>\n",
       "      <td>no bake chocolate oatmeal cookies gluten free</td>\n",
       "      <td>228152</td>\n",
       "    </tr>\n",
       "    <tr>\n",
       "      <th>3</th>\n",
       "      <td>grilled cajun chicken</td>\n",
       "      <td>248669</td>\n",
       "    </tr>\n",
       "    <tr>\n",
       "      <th>4</th>\n",
       "      <td>soy sauce substitute with very low sodium</td>\n",
       "      <td>295264</td>\n",
       "    </tr>\n",
       "  </tbody>\n",
       "</table>\n",
       "</div>"
      ],
      "text/plain": [
       "                                            name  recipe_id\n",
       "0                                     rotel corn     374887\n",
       "1                              easy key lime pie     147703\n",
       "2  no bake chocolate oatmeal cookies gluten free     228152\n",
       "3                          grilled cajun chicken     248669\n",
       "4      soy sauce substitute with very low sodium     295264"
      ]
     },
     "execution_count": 3,
     "metadata": {},
     "output_type": "execute_result"
    }
   ],
   "source": [
    "df.reset_index()\n",
    "df.rename(columns = {'Unnamed: 0':'Name'}, inplace = True)\n",
    "df = df.drop(['index'], axis=1)\n",
    "df.head()"
   ]
  },
  {
   "cell_type": "code",
   "execution_count": 4,
   "metadata": {
    "id": "cNuKsBs8_Txx"
   },
   "outputs": [],
   "source": [
    "def extract_images(name):\n",
    "    # Making a GET request\n",
    "    search =  f\"https://www.google.com/search?q={name}&tbm=isch\"\n",
    "    r = requests.get(search)\n",
    "    # check status code for response received\n",
    "    # success code - 200\n",
    "    # print(r)\n",
    "    try:\n",
    "      # Parsing the HTML\n",
    "      soup = BeautifulSoup(r.content, 'html.parser')\n",
    "      images_list = []\n",
    "      images = soup.select('img')\n",
    "      for image in images:\n",
    "          src = image.get('src')\n",
    "          alt = image.get('alt')\n",
    "          images_list.append(src)\n",
    "    except:\n",
    "      return np.nan\n",
    "\n",
    "    if len(images_list) >= 2:\n",
    "      return images_list[1]\n",
    "    else:\n",
    "      return np.nan"
   ]
  },
  {
   "cell_type": "code",
   "execution_count": 5,
   "metadata": {
    "colab": {
     "base_uri": "https://localhost:8080/",
     "height": 35
    },
    "id": "zRS_HZCH_0WV",
    "outputId": "04c88c46-c901-4004-c849-d84d82a9c23d"
   },
   "outputs": [
    {
     "data": {
      "text/plain": [
       "'https://encrypted-tbn0.gstatic.com/images?q=tbn:ANd9GcQEO6Fze58FG893LHkxI3Y3HfOSs3lBVB33DUa90QH1iRlkmfPQiYkgPDLWN4U&s'"
      ]
     },
     "execution_count": 5,
     "metadata": {},
     "output_type": "execute_result"
    }
   ],
   "source": [
    "extract_images('arriba baked winter squash mexican style')"
   ]
  },
  {
   "cell_type": "code",
   "execution_count": 6,
   "metadata": {
    "id": "a4jcXfPzwHTG"
   },
   "outputs": [],
   "source": [
    "demo = df.copy()\n",
    "demo = demo[:100]"
   ]
  },
  {
   "cell_type": "code",
   "execution_count": 9,
   "metadata": {
    "id": "fstR4UhR_3WB"
   },
   "outputs": [],
   "source": [
    "df['image_links'] = df['name'].apply(extract_images)"
   ]
  },
  {
   "cell_type": "code",
   "execution_count": 10,
   "metadata": {
    "colab": {
     "base_uri": "https://localhost:8080/",
     "height": 424
    },
    "id": "bx3M4pY_DaJd",
    "outputId": "671ddcfd-a5e3-4ffb-88ed-6650ce468249"
   },
   "outputs": [
    {
     "data": {
      "text/html": [
       "<div>\n",
       "<style scoped>\n",
       "    .dataframe tbody tr th:only-of-type {\n",
       "        vertical-align: middle;\n",
       "    }\n",
       "\n",
       "    .dataframe tbody tr th {\n",
       "        vertical-align: top;\n",
       "    }\n",
       "\n",
       "    .dataframe thead th {\n",
       "        text-align: right;\n",
       "    }\n",
       "</style>\n",
       "<table border=\"1\" class=\"dataframe\">\n",
       "  <thead>\n",
       "    <tr style=\"text-align: right;\">\n",
       "      <th></th>\n",
       "      <th>name</th>\n",
       "      <th>recipe_id</th>\n",
       "      <th>image_links</th>\n",
       "    </tr>\n",
       "  </thead>\n",
       "  <tbody>\n",
       "    <tr>\n",
       "      <th>0</th>\n",
       "      <td>rotel corn</td>\n",
       "      <td>374887</td>\n",
       "      <td>https://encrypted-tbn0.gstatic.com/images?q=tb...</td>\n",
       "    </tr>\n",
       "    <tr>\n",
       "      <th>1</th>\n",
       "      <td>easy key lime pie</td>\n",
       "      <td>147703</td>\n",
       "      <td>https://encrypted-tbn0.gstatic.com/images?q=tb...</td>\n",
       "    </tr>\n",
       "    <tr>\n",
       "      <th>2</th>\n",
       "      <td>no bake chocolate oatmeal cookies gluten free</td>\n",
       "      <td>228152</td>\n",
       "      <td>https://encrypted-tbn0.gstatic.com/images?q=tb...</td>\n",
       "    </tr>\n",
       "    <tr>\n",
       "      <th>3</th>\n",
       "      <td>grilled cajun chicken</td>\n",
       "      <td>248669</td>\n",
       "      <td>https://encrypted-tbn0.gstatic.com/images?q=tb...</td>\n",
       "    </tr>\n",
       "    <tr>\n",
       "      <th>4</th>\n",
       "      <td>soy sauce substitute with very low sodium</td>\n",
       "      <td>295264</td>\n",
       "      <td>https://encrypted-tbn0.gstatic.com/images?q=tb...</td>\n",
       "    </tr>\n",
       "    <tr>\n",
       "      <th>...</th>\n",
       "      <td>...</td>\n",
       "      <td>...</td>\n",
       "      <td>...</td>\n",
       "    </tr>\n",
       "    <tr>\n",
       "      <th>6195</th>\n",
       "      <td>summer garden bread salad</td>\n",
       "      <td>94301</td>\n",
       "      <td>https://encrypted-tbn0.gstatic.com/images?q=tb...</td>\n",
       "    </tr>\n",
       "    <tr>\n",
       "      <th>6196</th>\n",
       "      <td>meatloaf sandwiches</td>\n",
       "      <td>395800</td>\n",
       "      <td>https://encrypted-tbn0.gstatic.com/images?q=tb...</td>\n",
       "    </tr>\n",
       "    <tr>\n",
       "      <th>6197</th>\n",
       "      <td>quick easy and yummy fruit salad</td>\n",
       "      <td>266722</td>\n",
       "      <td>https://encrypted-tbn0.gstatic.com/images?q=tb...</td>\n",
       "    </tr>\n",
       "    <tr>\n",
       "      <th>6198</th>\n",
       "      <td>chocolate dipped peanut butter cracker sandwiches</td>\n",
       "      <td>274173</td>\n",
       "      <td>https://encrypted-tbn0.gstatic.com/images?q=tb...</td>\n",
       "    </tr>\n",
       "    <tr>\n",
       "      <th>6199</th>\n",
       "      <td>cheeseburger po boy</td>\n",
       "      <td>145417</td>\n",
       "      <td>https://encrypted-tbn0.gstatic.com/images?q=tb...</td>\n",
       "    </tr>\n",
       "  </tbody>\n",
       "</table>\n",
       "<p>6200 rows × 3 columns</p>\n",
       "</div>"
      ],
      "text/plain": [
       "                                                   name  recipe_id  \\\n",
       "0                                            rotel corn     374887   \n",
       "1                                     easy key lime pie     147703   \n",
       "2         no bake chocolate oatmeal cookies gluten free     228152   \n",
       "3                                 grilled cajun chicken     248669   \n",
       "4             soy sauce substitute with very low sodium     295264   \n",
       "...                                                 ...        ...   \n",
       "6195                          summer garden bread salad      94301   \n",
       "6196                                meatloaf sandwiches     395800   \n",
       "6197                   quick easy and yummy fruit salad     266722   \n",
       "6198  chocolate dipped peanut butter cracker sandwiches     274173   \n",
       "6199                                cheeseburger po boy     145417   \n",
       "\n",
       "                                            image_links  \n",
       "0     https://encrypted-tbn0.gstatic.com/images?q=tb...  \n",
       "1     https://encrypted-tbn0.gstatic.com/images?q=tb...  \n",
       "2     https://encrypted-tbn0.gstatic.com/images?q=tb...  \n",
       "3     https://encrypted-tbn0.gstatic.com/images?q=tb...  \n",
       "4     https://encrypted-tbn0.gstatic.com/images?q=tb...  \n",
       "...                                                 ...  \n",
       "6195  https://encrypted-tbn0.gstatic.com/images?q=tb...  \n",
       "6196  https://encrypted-tbn0.gstatic.com/images?q=tb...  \n",
       "6197  https://encrypted-tbn0.gstatic.com/images?q=tb...  \n",
       "6198  https://encrypted-tbn0.gstatic.com/images?q=tb...  \n",
       "6199  https://encrypted-tbn0.gstatic.com/images?q=tb...  \n",
       "\n",
       "[6200 rows x 3 columns]"
      ]
     },
     "execution_count": 10,
     "metadata": {},
     "output_type": "execute_result"
    }
   ],
   "source": [
    "df"
   ]
  },
  {
   "cell_type": "code",
   "execution_count": 18,
   "metadata": {
    "id": "wjrr_SM0DaoS",
    "scrolled": true
   },
   "outputs": [
    {
     "data": {
      "text/html": [
       "<div>\n",
       "<style scoped>\n",
       "    .dataframe tbody tr th:only-of-type {\n",
       "        vertical-align: middle;\n",
       "    }\n",
       "\n",
       "    .dataframe tbody tr th {\n",
       "        vertical-align: top;\n",
       "    }\n",
       "\n",
       "    .dataframe thead th {\n",
       "        text-align: right;\n",
       "    }\n",
       "</style>\n",
       "<table border=\"1\" class=\"dataframe\">\n",
       "  <thead>\n",
       "    <tr style=\"text-align: right;\">\n",
       "      <th></th>\n",
       "      <th>recipe_id</th>\n",
       "      <th>image_links</th>\n",
       "    </tr>\n",
       "    <tr>\n",
       "      <th>name</th>\n",
       "      <th></th>\n",
       "      <th></th>\n",
       "    </tr>\n",
       "  </thead>\n",
       "  <tbody>\n",
       "    <tr>\n",
       "      <th>rotel corn</th>\n",
       "      <td>374887</td>\n",
       "      <td>https://encrypted-tbn0.gstatic.com/images?q=tb...</td>\n",
       "    </tr>\n",
       "    <tr>\n",
       "      <th>easy key lime pie</th>\n",
       "      <td>147703</td>\n",
       "      <td>https://encrypted-tbn0.gstatic.com/images?q=tb...</td>\n",
       "    </tr>\n",
       "    <tr>\n",
       "      <th>no bake chocolate oatmeal cookies gluten free</th>\n",
       "      <td>228152</td>\n",
       "      <td>https://encrypted-tbn0.gstatic.com/images?q=tb...</td>\n",
       "    </tr>\n",
       "    <tr>\n",
       "      <th>grilled cajun chicken</th>\n",
       "      <td>248669</td>\n",
       "      <td>https://encrypted-tbn0.gstatic.com/images?q=tb...</td>\n",
       "    </tr>\n",
       "    <tr>\n",
       "      <th>soy sauce substitute with very low sodium</th>\n",
       "      <td>295264</td>\n",
       "      <td>https://encrypted-tbn0.gstatic.com/images?q=tb...</td>\n",
       "    </tr>\n",
       "  </tbody>\n",
       "</table>\n",
       "</div>"
      ],
      "text/plain": [
       "                                               recipe_id  \\\n",
       "name                                                       \n",
       "rotel corn                                        374887   \n",
       "easy key lime pie                                 147703   \n",
       "no bake chocolate oatmeal cookies gluten free     228152   \n",
       "grilled cajun chicken                             248669   \n",
       "soy sauce substitute with very low sodium         295264   \n",
       "\n",
       "                                                                                     image_links  \n",
       "name                                                                                              \n",
       "rotel corn                                     https://encrypted-tbn0.gstatic.com/images?q=tb...  \n",
       "easy key lime pie                              https://encrypted-tbn0.gstatic.com/images?q=tb...  \n",
       "no bake chocolate oatmeal cookies gluten free  https://encrypted-tbn0.gstatic.com/images?q=tb...  \n",
       "grilled cajun chicken                          https://encrypted-tbn0.gstatic.com/images?q=tb...  \n",
       "soy sauce substitute with very low sodium      https://encrypted-tbn0.gstatic.com/images?q=tb...  "
      ]
     },
     "execution_count": 18,
     "metadata": {},
     "output_type": "execute_result"
    }
   ],
   "source": [
    "df = df.set_index('name')\n",
    "df.head(), df,shape()"
   ]
  },
  {
   "cell_type": "code",
   "execution_count": 24,
   "metadata": {},
   "outputs": [],
   "source": [
    "df['index'] = np.arange(len(df))"
   ]
  },
  {
   "cell_type": "code",
   "execution_count": 26,
   "metadata": {},
   "outputs": [
    {
     "data": {
      "text/html": [
       "<div>\n",
       "<style scoped>\n",
       "    .dataframe tbody tr th:only-of-type {\n",
       "        vertical-align: middle;\n",
       "    }\n",
       "\n",
       "    .dataframe tbody tr th {\n",
       "        vertical-align: top;\n",
       "    }\n",
       "\n",
       "    .dataframe thead th {\n",
       "        text-align: right;\n",
       "    }\n",
       "</style>\n",
       "<table border=\"1\" class=\"dataframe\">\n",
       "  <thead>\n",
       "    <tr style=\"text-align: right;\">\n",
       "      <th></th>\n",
       "      <th>recipe_id</th>\n",
       "      <th>image_links</th>\n",
       "      <th>index</th>\n",
       "    </tr>\n",
       "    <tr>\n",
       "      <th>name</th>\n",
       "      <th></th>\n",
       "      <th></th>\n",
       "      <th></th>\n",
       "    </tr>\n",
       "  </thead>\n",
       "  <tbody>\n",
       "    <tr>\n",
       "      <th>summer garden bread salad</th>\n",
       "      <td>94301</td>\n",
       "      <td>https://encrypted-tbn0.gstatic.com/images?q=tb...</td>\n",
       "      <td>6195</td>\n",
       "    </tr>\n",
       "    <tr>\n",
       "      <th>meatloaf sandwiches</th>\n",
       "      <td>395800</td>\n",
       "      <td>https://encrypted-tbn0.gstatic.com/images?q=tb...</td>\n",
       "      <td>6196</td>\n",
       "    </tr>\n",
       "    <tr>\n",
       "      <th>quick easy and yummy fruit salad</th>\n",
       "      <td>266722</td>\n",
       "      <td>https://encrypted-tbn0.gstatic.com/images?q=tb...</td>\n",
       "      <td>6197</td>\n",
       "    </tr>\n",
       "    <tr>\n",
       "      <th>chocolate dipped peanut butter cracker sandwiches</th>\n",
       "      <td>274173</td>\n",
       "      <td>https://encrypted-tbn0.gstatic.com/images?q=tb...</td>\n",
       "      <td>6198</td>\n",
       "    </tr>\n",
       "    <tr>\n",
       "      <th>cheeseburger po boy</th>\n",
       "      <td>145417</td>\n",
       "      <td>https://encrypted-tbn0.gstatic.com/images?q=tb...</td>\n",
       "      <td>6199</td>\n",
       "    </tr>\n",
       "  </tbody>\n",
       "</table>\n",
       "</div>"
      ],
      "text/plain": [
       "                                                   recipe_id  \\\n",
       "name                                                           \n",
       "summer garden bread salad                              94301   \n",
       "meatloaf sandwiches                                   395800   \n",
       "quick easy and yummy fruit salad                      266722   \n",
       "chocolate dipped peanut butter cracker sandwiches     274173   \n",
       "cheeseburger po boy                                   145417   \n",
       "\n",
       "                                                                                         image_links  \\\n",
       "name                                                                                                   \n",
       "summer garden bread salad                          https://encrypted-tbn0.gstatic.com/images?q=tb...   \n",
       "meatloaf sandwiches                                https://encrypted-tbn0.gstatic.com/images?q=tb...   \n",
       "quick easy and yummy fruit salad                   https://encrypted-tbn0.gstatic.com/images?q=tb...   \n",
       "chocolate dipped peanut butter cracker sandwiches  https://encrypted-tbn0.gstatic.com/images?q=tb...   \n",
       "cheeseburger po boy                                https://encrypted-tbn0.gstatic.com/images?q=tb...   \n",
       "\n",
       "                                                   index  \n",
       "name                                                      \n",
       "summer garden bread salad                           6195  \n",
       "meatloaf sandwiches                                 6196  \n",
       "quick easy and yummy fruit salad                    6197  \n",
       "chocolate dipped peanut butter cracker sandwiches   6198  \n",
       "cheeseburger po boy                                 6199  "
      ]
     },
     "execution_count": 26,
     "metadata": {},
     "output_type": "execute_result"
    }
   ],
   "source": [
    "df.tail()"
   ]
  },
  {
   "cell_type": "code",
   "execution_count": 27,
   "metadata": {},
   "outputs": [],
   "source": [
    "df.to_csv('Images_links.csv')"
   ]
  },
  {
   "cell_type": "code",
   "execution_count": 28,
   "metadata": {},
   "outputs": [
    {
     "data": {
      "text/plain": [
       "recipe_id      0\n",
       "image_links    0\n",
       "index          0\n",
       "dtype: int64"
      ]
     },
     "execution_count": 28,
     "metadata": {},
     "output_type": "execute_result"
    }
   ],
   "source": [
    "df.isnull().sum()"
   ]
  },
  {
   "cell_type": "code",
   "execution_count": 29,
   "metadata": {},
   "outputs": [
    {
     "data": {
      "text/plain": [
       "name\n",
       "rotel corn                                       https://encrypted-tbn0.gstatic.com/images?q=tb...\n",
       "easy key lime pie                                https://encrypted-tbn0.gstatic.com/images?q=tb...\n",
       "no bake chocolate oatmeal cookies gluten free    https://encrypted-tbn0.gstatic.com/images?q=tb...\n",
       "grilled cajun chicken                            https://encrypted-tbn0.gstatic.com/images?q=tb...\n",
       "soy sauce substitute with very low sodium        https://encrypted-tbn0.gstatic.com/images?q=tb...\n",
       "the ultimate salmon fillets                      https://encrypted-tbn0.gstatic.com/images?q=tb...\n",
       "perfect basic white rice                         https://encrypted-tbn0.gstatic.com/images?q=tb...\n",
       "banana pancake                                   https://encrypted-tbn0.gstatic.com/images?q=tb...\n",
       "terminally lazy chocolate cake                   https://encrypted-tbn0.gstatic.com/images?q=tb...\n",
       "weight watchers apple cinnamon pancakes          https://encrypted-tbn0.gstatic.com/images?q=tb...\n",
       "Name: image_links, dtype: object"
      ]
     },
     "execution_count": 29,
     "metadata": {},
     "output_type": "execute_result"
    }
   ],
   "source": [
    "df.iloc[:10].image_links"
   ]
  },
  {
   "cell_type": "code",
   "execution_count": 30,
   "metadata": {},
   "outputs": [
    {
     "data": {
      "text/plain": [
       "'https://encrypted-tbn0.gstatic.com/images?q=tbn:ANd9GcRUmZkF_XaLYlrgiBvYO7nDSlcFSGjWmw2vDXB4KQ6_6ON1IuHQid8Td0ziW_U&s'"
      ]
     },
     "execution_count": 30,
     "metadata": {},
     "output_type": "execute_result"
    }
   ],
   "source": [
    "df.iloc[0].image_links"
   ]
  },
  {
   "cell_type": "code",
   "execution_count": null,
   "metadata": {},
   "outputs": [],
   "source": []
  }
 ],
 "metadata": {
  "colab": {
   "provenance": []
  },
  "kernelspec": {
   "display_name": "Python 3 (ipykernel)",
   "language": "python",
   "name": "python3"
  },
  "language_info": {
   "codemirror_mode": {
    "name": "ipython",
    "version": 3
   },
   "file_extension": ".py",
   "mimetype": "text/x-python",
   "name": "python",
   "nbconvert_exporter": "python",
   "pygments_lexer": "ipython3",
   "version": "3.10.9"
  }
 },
 "nbformat": 4,
 "nbformat_minor": 1
}
